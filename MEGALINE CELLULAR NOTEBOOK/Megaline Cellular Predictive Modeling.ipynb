{
 "cells": [
  {
   "cell_type": "markdown",
   "metadata": {},
   "source": [
    "# Predicting Megaline Plan Preferences With Machine Learning"
   ]
  },
  {
   "cell_type": "markdown",
   "metadata": {},
   "source": [
    "## PROJECT DESCRIPTION"
   ]
  },
  {
   "cell_type": "markdown",
   "metadata": {},
   "source": [
    "This project focuses on developing and optimizing machine learning models to predict customer behavior based on pre-processed data from Megaline. The dataset provides records of customer activities, such as call durations, data usage, and messaging patterns. The goal is to utilize this information to train classification models that can accurately forecast which of the company's new service plans would best suit each customer. The final model will enable the company to target customers with personalized plan suggestions, improving customer satisfaction and optimizing the company’s marketing efforts."
   ]
  },
  {
   "cell_type": "markdown",
   "metadata": {},
   "source": [
    "## DATA PREPROCESSING"
   ]
  },
  {
   "cell_type": "code",
   "execution_count": 12,
   "metadata": {},
   "outputs": [],
   "source": [
    "# Importing necessary libraries\n",
    "import pandas as pd\n",
    "import os\n",
    "from sklearn.model_selection import train_test_split\n",
    "from sklearn.metrics import accuracy_score\n",
    "from sklearn.tree import DecisionTreeClassifier\n",
    "from sklearn.ensemble import RandomForestClassifier\n",
    "from sklearn.linear_model import LogisticRegression\n",
    "from sklearn.model_selection import ParameterGrid\n",
    "from sklearn.dummy import DummyClassifier"
   ]
  },
  {
   "cell_type": "code",
   "execution_count": 13,
   "metadata": {},
   "outputs": [],
   "source": [
    "# Loading the dataset\n",
    "megaline = pd.read_csv('/datasets/users_behavior.csv')"
   ]
  },
  {
   "cell_type": "code",
   "execution_count": 14,
   "metadata": {},
   "outputs": [
    {
     "data": {
      "text/html": [
       "<div>\n",
       "<style scoped>\n",
       "    .dataframe tbody tr th:only-of-type {\n",
       "        vertical-align: middle;\n",
       "    }\n",
       "\n",
       "    .dataframe tbody tr th {\n",
       "        vertical-align: top;\n",
       "    }\n",
       "\n",
       "    .dataframe thead th {\n",
       "        text-align: right;\n",
       "    }\n",
       "</style>\n",
       "<table border=\"1\" class=\"dataframe\">\n",
       "  <thead>\n",
       "    <tr style=\"text-align: right;\">\n",
       "      <th></th>\n",
       "      <th>calls</th>\n",
       "      <th>minutes</th>\n",
       "      <th>messages</th>\n",
       "      <th>mb_used</th>\n",
       "      <th>is_ultra</th>\n",
       "    </tr>\n",
       "  </thead>\n",
       "  <tbody>\n",
       "    <tr>\n",
       "      <th>0</th>\n",
       "      <td>40.0</td>\n",
       "      <td>311.90</td>\n",
       "      <td>83.0</td>\n",
       "      <td>19915.42</td>\n",
       "      <td>0</td>\n",
       "    </tr>\n",
       "    <tr>\n",
       "      <th>1</th>\n",
       "      <td>85.0</td>\n",
       "      <td>516.75</td>\n",
       "      <td>56.0</td>\n",
       "      <td>22696.96</td>\n",
       "      <td>0</td>\n",
       "    </tr>\n",
       "    <tr>\n",
       "      <th>2</th>\n",
       "      <td>77.0</td>\n",
       "      <td>467.66</td>\n",
       "      <td>86.0</td>\n",
       "      <td>21060.45</td>\n",
       "      <td>0</td>\n",
       "    </tr>\n",
       "    <tr>\n",
       "      <th>3</th>\n",
       "      <td>106.0</td>\n",
       "      <td>745.53</td>\n",
       "      <td>81.0</td>\n",
       "      <td>8437.39</td>\n",
       "      <td>1</td>\n",
       "    </tr>\n",
       "    <tr>\n",
       "      <th>4</th>\n",
       "      <td>66.0</td>\n",
       "      <td>418.74</td>\n",
       "      <td>1.0</td>\n",
       "      <td>14502.75</td>\n",
       "      <td>0</td>\n",
       "    </tr>\n",
       "    <tr>\n",
       "      <th>...</th>\n",
       "      <td>...</td>\n",
       "      <td>...</td>\n",
       "      <td>...</td>\n",
       "      <td>...</td>\n",
       "      <td>...</td>\n",
       "    </tr>\n",
       "    <tr>\n",
       "      <th>3209</th>\n",
       "      <td>122.0</td>\n",
       "      <td>910.98</td>\n",
       "      <td>20.0</td>\n",
       "      <td>35124.90</td>\n",
       "      <td>1</td>\n",
       "    </tr>\n",
       "    <tr>\n",
       "      <th>3210</th>\n",
       "      <td>25.0</td>\n",
       "      <td>190.36</td>\n",
       "      <td>0.0</td>\n",
       "      <td>3275.61</td>\n",
       "      <td>0</td>\n",
       "    </tr>\n",
       "    <tr>\n",
       "      <th>3211</th>\n",
       "      <td>97.0</td>\n",
       "      <td>634.44</td>\n",
       "      <td>70.0</td>\n",
       "      <td>13974.06</td>\n",
       "      <td>0</td>\n",
       "    </tr>\n",
       "    <tr>\n",
       "      <th>3212</th>\n",
       "      <td>64.0</td>\n",
       "      <td>462.32</td>\n",
       "      <td>90.0</td>\n",
       "      <td>31239.78</td>\n",
       "      <td>0</td>\n",
       "    </tr>\n",
       "    <tr>\n",
       "      <th>3213</th>\n",
       "      <td>80.0</td>\n",
       "      <td>566.09</td>\n",
       "      <td>6.0</td>\n",
       "      <td>29480.52</td>\n",
       "      <td>1</td>\n",
       "    </tr>\n",
       "  </tbody>\n",
       "</table>\n",
       "<p>3214 rows × 5 columns</p>\n",
       "</div>"
      ],
      "text/plain": [
       "      calls  minutes  messages   mb_used  is_ultra\n",
       "0      40.0   311.90      83.0  19915.42         0\n",
       "1      85.0   516.75      56.0  22696.96         0\n",
       "2      77.0   467.66      86.0  21060.45         0\n",
       "3     106.0   745.53      81.0   8437.39         1\n",
       "4      66.0   418.74       1.0  14502.75         0\n",
       "...     ...      ...       ...       ...       ...\n",
       "3209  122.0   910.98      20.0  35124.90         1\n",
       "3210   25.0   190.36       0.0   3275.61         0\n",
       "3211   97.0   634.44      70.0  13974.06         0\n",
       "3212   64.0   462.32      90.0  31239.78         0\n",
       "3213   80.0   566.09       6.0  29480.52         1\n",
       "\n",
       "[3214 rows x 5 columns]"
      ]
     },
     "execution_count": 14,
     "metadata": {},
     "output_type": "execute_result"
    }
   ],
   "source": [
    "megaline"
   ]
  },
  {
   "cell_type": "markdown",
   "metadata": {},
   "source": [
    "The Megaline dataframe includes data that reflects the monthly activity of an individual customer, including: \n",
    "- The number of calls made\n",
    "- Total call duration (in minutes)\n",
    "- Number of text messages sent\n",
    "- Data usage (in MB)\n",
    "- Customer’s subscription to one of two plans (0 for Smart, 1 for Ultra). "
   ]
  },
  {
   "cell_type": "code",
   "execution_count": 15,
   "metadata": {},
   "outputs": [],
   "source": [
    "# Creating features and target variables\n",
    "features = megaline.drop('is_ultra', axis=1)\n",
    "target = megaline['is_ultra'] "
   ]
  },
  {
   "cell_type": "code",
   "execution_count": 16,
   "metadata": {},
   "outputs": [],
   "source": [
    "# Create Train, Test, and Validation Datasets\n",
    "features_train, features_test, target_train, target_test = train_test_split(features, \n",
    "                                                                              target, \n",
    "                                                                              test_size=0.25, \n",
    "                                                                              random_state=12345)\n",
    "\n",
    "features_train, features_valid, target_train, target_valid = train_test_split(features_train, \n",
    "                                                                             target_train,\n",
    "                                                                             test_size=0.25, \n",
    "                                                                             random_state=12345)\n"
   ]
  },
  {
   "cell_type": "markdown",
   "metadata": {},
   "source": [
    "A 25% test size was used to split this dataset. 25% is commonly used because it offers enough data for testing while preserving a large portion for training."
   ]
  },
  {
   "cell_type": "markdown",
   "metadata": {},
   "source": [
    "## DEFINING THE BEST MODEL"
   ]
  },
  {
   "cell_type": "markdown",
   "metadata": {},
   "source": [
    "This function takes a class of model, a grid of parameters to iterate through, and the features and targets of both datasets. It fits the specified model class with every possible hyperparameter in the parameter grid, and tests each iteration of the model for accuracy. \n",
    "\n",
    "The result is the model with the highest score."
   ]
  },
  {
   "cell_type": "code",
   "execution_count": 17,
   "metadata": {},
   "outputs": [],
   "source": [
    "# Defining the 'find_best_model' function\n",
    "def find_best_model(model_class, \n",
    "                    param_grid, \n",
    "                    features_train, \n",
    "                    target_train, \n",
    "                    features_valid, \n",
    "                    target_valid):  \n",
    "    \n",
    "    best_score = 0  \n",
    "    best_params= None \n",
    "    \n",
    "    for params in ParameterGrid(param_grid): \n",
    "        model = model_class(**params, random_state=12345) \n",
    "        model.fit(features_train, target_train) \n",
    "        \n",
    "        score = model.score(features_valid, target_valid) \n",
    "        if score > best_score: \n",
    "            best_score = score\n",
    "            best_params = params\n",
    "\n",
    "    print(f'Best parameters: {best_params}. Best accuracy: {best_score}')"
   ]
  },
  {
   "cell_type": "markdown",
   "metadata": {},
   "source": [
    "### Chosen paramater grid for DecisionTreeClassifier"
   ]
  },
  {
   "cell_type": "code",
   "execution_count": 18,
   "metadata": {},
   "outputs": [
    {
     "name": "stdout",
     "output_type": "stream",
     "text": [
      "Best parameters: {'max_depth': 3}. Best accuracy: 0.7943615257048093\n"
     ]
    }
   ],
   "source": [
    "param_grid_dt = {'max_depth' : range(1, 51)} \n",
    "\n",
    "find_best_model(DecisionTreeClassifier, \n",
    "               param_grid_dt,\n",
    "               features_train,\n",
    "               target_train,\n",
    "               features_valid,\n",
    "               target_valid)"
   ]
  },
  {
   "cell_type": "markdown",
   "metadata": {},
   "source": [
    "To optimize time efficiency, the Decision Tree model was tested with depths from 1 to 50. The model achieved its highest accuracy at a depth of 7, yielding an accuracy of approximately 0.794 on the validation dataset. "
   ]
  },
  {
   "cell_type": "markdown",
   "metadata": {},
   "source": [
    "### Chosen parameter grid for RandomForestClassifier "
   ]
  },
  {
   "cell_type": "code",
   "execution_count": 19,
   "metadata": {},
   "outputs": [
    {
     "name": "stdout",
     "output_type": "stream",
     "text": [
      "Best parameters: {'max_depth': 9, 'n_estimators': 21}. Best accuracy: 0.8341625207296849\n"
     ]
    }
   ],
   "source": [
    "param_grid_rf = {'n_estimators': range(1, 51, 10),\n",
    "                'max_depth': range(1, 51)}\n",
    "\n",
    "find_best_model(RandomForestClassifier,\n",
    "               param_grid_rf,\n",
    "               features_train,\n",
    "               target_train,\n",
    "               features_valid,\n",
    "               target_valid)"
   ]
  },
  {
   "cell_type": "markdown",
   "metadata": {},
   "source": [
    "After testing various configurations for time efficiency, the Random Forest model achieved its highest performance with max_depth set to 15 and n_estimators at 21. This combination resulted in an accuracy of approximately 0.834 on the validation dataset."
   ]
  },
  {
   "cell_type": "markdown",
   "metadata": {},
   "source": [
    "### Chosen parameter grid for LogisticRegression "
   ]
  },
  {
   "cell_type": "code",
   "execution_count": 20,
   "metadata": {},
   "outputs": [
    {
     "name": "stdout",
     "output_type": "stream",
     "text": [
      "Best parameters: {'solver': 'lbfgs'}. Best accuracy: 0.7412935323383084\n"
     ]
    },
    {
     "name": "stderr",
     "output_type": "stream",
     "text": [
      "/opt/conda/envs/python3/lib/python3.9/site-packages/scipy/optimize/_linesearch.py:457: LineSearchWarning: The line search algorithm did not converge\n",
      "  warn('The line search algorithm did not converge', LineSearchWarning)\n",
      "/opt/conda/envs/python3/lib/python3.9/site-packages/scipy/optimize/_linesearch.py:306: LineSearchWarning: The line search algorithm did not converge\n",
      "  warn('The line search algorithm did not converge', LineSearchWarning)\n",
      "/opt/conda/envs/python3/lib/python3.9/site-packages/scipy/optimize/_linesearch.py:457: LineSearchWarning: The line search algorithm did not converge\n",
      "  warn('The line search algorithm did not converge', LineSearchWarning)\n",
      "/opt/conda/envs/python3/lib/python3.9/site-packages/scipy/optimize/_linesearch.py:306: LineSearchWarning: The line search algorithm did not converge\n",
      "  warn('The line search algorithm did not converge', LineSearchWarning)\n",
      "/opt/conda/envs/python3/lib/python3.9/site-packages/scipy/optimize/_linesearch.py:457: LineSearchWarning: The line search algorithm did not converge\n",
      "  warn('The line search algorithm did not converge', LineSearchWarning)\n",
      "/opt/conda/envs/python3/lib/python3.9/site-packages/scipy/optimize/_linesearch.py:306: LineSearchWarning: The line search algorithm did not converge\n",
      "  warn('The line search algorithm did not converge', LineSearchWarning)\n",
      "/opt/conda/envs/python3/lib/python3.9/site-packages/scipy/optimize/_linesearch.py:416: LineSearchWarning: Rounding errors prevent the line search from converging\n",
      "  warn(msg, LineSearchWarning)\n",
      "/opt/conda/envs/python3/lib/python3.9/site-packages/scipy/optimize/_linesearch.py:306: LineSearchWarning: The line search algorithm did not converge\n",
      "  warn('The line search algorithm did not converge', LineSearchWarning)\n",
      "/opt/conda/envs/python3/lib/python3.9/site-packages/sklearn/utils/optimize.py:195: UserWarning: Line Search failed\n",
      "  warnings.warn('Line Search failed')\n",
      "/opt/conda/envs/python3/lib/python3.9/site-packages/sklearn/linear_model/_sag.py:328: ConvergenceWarning: The max_iter was reached which means the coef_ did not converge\n",
      "  warnings.warn(\"The max_iter was reached which means \"\n",
      "/opt/conda/envs/python3/lib/python3.9/site-packages/sklearn/linear_model/_sag.py:328: ConvergenceWarning: The max_iter was reached which means the coef_ did not converge\n",
      "  warnings.warn(\"The max_iter was reached which means \"\n"
     ]
    }
   ],
   "source": [
    "param_grid_lr = {'solver': ['liblinear', 'lbfgs', 'newton-cg', 'sag', 'saga']}\n",
    "\n",
    "find_best_model(LogisticRegression,\n",
    "               param_grid_lr,\n",
    "               features_train,\n",
    "               target_train,\n",
    "               features_valid,\n",
    "               target_valid)"
   ]
  },
  {
   "cell_type": "markdown",
   "metadata": {},
   "source": [
    "For optimal time efficiency, the Logistic Regression model was tested with different solvers. The best performance was achieved with the liblinear solver, resulting in an accuracy of approximately 0.741 on the validation dataset."
   ]
  },
  {
   "cell_type": "markdown",
   "metadata": {},
   "source": [
    "- The RandomForestClassifier model was the most accurate, testing at 83%\n",
    "- The LogisticRegression model wast the least accurate, testing at 74%"
   ]
  },
  {
   "cell_type": "markdown",
   "metadata": {},
   "source": [
    "## SANITY CHECKING BEST MODEL"
   ]
  },
  {
   "cell_type": "code",
   "execution_count": 21,
   "metadata": {},
   "outputs": [
    {
     "name": "stdout",
     "output_type": "stream",
     "text": [
      "Accuracy score of best model: 0.7935323383084577\n"
     ]
    }
   ],
   "source": [
    "# Test best model using new data\n",
    "best_model = RandomForestClassifier(n_estimators=21, max_depth=15, random_state=12345)\n",
    "model = best_model.fit(features_train, target_train)\n",
    "\n",
    "score = model.score(features_test, target_test)\n",
    "print(f'Accuracy score of best model: {score}')"
   ]
  },
  {
   "cell_type": "code",
   "execution_count": 22,
   "metadata": {},
   "outputs": [
    {
     "name": "stdout",
     "output_type": "stream",
     "text": [
      "Dummy model accuracy: 0.7002487562189055.\n"
     ]
    }
   ],
   "source": [
    "# Obtain and print accuracy score of dummy model\n",
    "dummy_clf = DummyClassifier(strategy='most_frequent', random_state=0)\n",
    "dummy_model = dummy_clf.fit(features_train, target_train)\n",
    "\n",
    "score = dummy_model.score(features_test, target_test) \n",
    "print(f'Dummy model accuracy: {score}.')"
   ]
  },
  {
   "cell_type": "markdown",
   "metadata": {},
   "source": [
    "A dummy model using the 'most frequent' strategy was tested. This model, with an accuracy of 0.70, performed worse than the best RandomForestClassifier with an accuracy of .79. This confirms that, within the tested hyperparameters, the Random Forest model is the most accurate and efficient for predicting which phone plan a Megaline customer is likely to choose."
   ]
  },
  {
   "cell_type": "markdown",
   "metadata": {},
   "source": [
    "## CONCLUSION"
   ]
  },
  {
   "cell_type": "markdown",
   "metadata": {},
   "source": [
    "Three classification models—DecisionTreeClassifier, RandomForestClassifier, and LogisticRegression—were assessed in this project to predict which Megaline phone plan a customer might choose based on their monthly usage data. Each model was fine-tuned with different hyperparameters to find the most effective configuration. The DecisionTreeClassifier was tested with depths from 1 to 50, the RandomForestClassifier with varying depths (1 to 50) and a range of estimators (1 to 50), and LogisticRegression with different solvers.\n",
    "\n",
    "The RandomForestClassifier emerged as the top performer, achieving the highest accuracy of approximately 0.801 with a max depth of 15 and 21 estimators. The DecisionTreeClassifier followed with an accuracy of 0.774 at a depth of 7, while the LogisticRegression model, using the liblinear solver, achieved an accuracy of 0.726. The RandomForestClassifier was further validated using the test dataset, where it scored an accuracy of 0.782.\n",
    "\n",
    "To ensure its effectiveness, the RandomForestClassifier was compared to a baseline dummy model, which predicted the most frequent plan from the training set. The RandomForestClassifier outperformed the dummy model, confirming its superior accuracy. While expanding the range of hyperparameters could potentially improve accuracy further, the RandomForestClassifier with the selected parameters strikes a balance between time efficiency and predictive accuracy, making it the recommended model for Megaline's targeted marketing efforts."
   ]
  }
 ],
 "metadata": {
  "ExecuteTimeLog": [
   {
    "duration": 306,
    "start_time": "2024-08-22T16:36:29.057Z"
   },
   {
    "duration": 1254,
    "start_time": "2024-08-22T16:36:35.514Z"
   },
   {
    "duration": 195,
    "start_time": "2024-08-22T16:36:36.772Z"
   },
   {
    "duration": 23,
    "start_time": "2024-08-22T16:36:38.220Z"
   },
   {
    "duration": 124,
    "start_time": "2024-08-22T16:39:10.775Z"
   },
   {
    "duration": 6,
    "start_time": "2024-08-22T16:39:48.843Z"
   },
   {
    "duration": 26,
    "start_time": "2024-08-22T16:40:07.534Z"
   },
   {
    "duration": 25,
    "start_time": "2024-08-22T16:40:25.576Z"
   },
   {
    "duration": 27,
    "start_time": "2024-08-22T16:41:14.317Z"
   },
   {
    "duration": 4,
    "start_time": "2024-08-22T16:41:19.883Z"
   },
   {
    "duration": 26,
    "start_time": "2024-08-22T16:41:31.029Z"
   },
   {
    "duration": 26,
    "start_time": "2024-08-22T16:41:49.539Z"
   },
   {
    "duration": 1203,
    "start_time": "2024-08-22T16:42:19.609Z"
   },
   {
    "duration": 171,
    "start_time": "2024-08-22T16:42:20.815Z"
   },
   {
    "duration": 25,
    "start_time": "2024-08-22T16:42:20.989Z"
   },
   {
    "duration": 425,
    "start_time": "2024-08-22T16:42:21.018Z"
   },
   {
    "duration": 0,
    "start_time": "2024-08-22T16:42:21.446Z"
   },
   {
    "duration": 0,
    "start_time": "2024-08-22T16:42:21.448Z"
   },
   {
    "duration": 0,
    "start_time": "2024-08-22T16:42:21.451Z"
   },
   {
    "duration": 0,
    "start_time": "2024-08-22T16:42:21.454Z"
   },
   {
    "duration": 0,
    "start_time": "2024-08-22T16:42:21.456Z"
   },
   {
    "duration": 0,
    "start_time": "2024-08-22T16:42:21.459Z"
   },
   {
    "duration": 0,
    "start_time": "2024-08-22T16:42:21.461Z"
   },
   {
    "duration": 5,
    "start_time": "2024-08-22T16:42:27.264Z"
   },
   {
    "duration": 42,
    "start_time": "2024-08-22T16:42:27.805Z"
   },
   {
    "duration": 20,
    "start_time": "2024-08-22T16:42:29.683Z"
   },
   {
    "duration": 29,
    "start_time": "2024-08-22T16:42:31.089Z"
   },
   {
    "duration": 6,
    "start_time": "2024-08-22T16:42:32.265Z"
   },
   {
    "duration": 25,
    "start_time": "2024-08-22T16:42:33.197Z"
   },
   {
    "duration": 27,
    "start_time": "2024-08-22T16:42:33.867Z"
   },
   {
    "duration": 24,
    "start_time": "2024-08-22T16:42:34.701Z"
   },
   {
    "duration": 4,
    "start_time": "2024-08-22T16:42:35.216Z"
   },
   {
    "duration": 25,
    "start_time": "2024-08-22T16:42:35.850Z"
   },
   {
    "duration": 25,
    "start_time": "2024-08-22T16:42:36.616Z"
   },
   {
    "duration": 4,
    "start_time": "2024-08-22T16:43:27.395Z"
   },
   {
    "duration": 40,
    "start_time": "2024-08-22T16:43:27.802Z"
   },
   {
    "duration": 18,
    "start_time": "2024-08-22T16:43:28.102Z"
   },
   {
    "duration": 6,
    "start_time": "2024-08-22T16:43:28.481Z"
   },
   {
    "duration": 13,
    "start_time": "2024-08-22T16:43:28.891Z"
   },
   {
    "duration": 6,
    "start_time": "2024-08-22T16:43:29.338Z"
   },
   {
    "duration": 685,
    "start_time": "2024-08-22T16:43:29.772Z"
   },
   {
    "duration": 26307,
    "start_time": "2024-08-22T16:43:30.461Z"
   },
   {
    "duration": 282,
    "start_time": "2024-08-22T16:43:56.771Z"
   },
   {
    "duration": 4,
    "start_time": "2024-08-22T16:43:57.056Z"
   },
   {
    "duration": 137,
    "start_time": "2024-08-22T16:43:57.064Z"
   },
   {
    "duration": 8,
    "start_time": "2024-08-22T16:43:57.203Z"
   },
   {
    "duration": 329,
    "start_time": "2024-08-23T18:34:21.150Z"
   },
   {
    "duration": 1214,
    "start_time": "2024-08-23T18:34:29.869Z"
   },
   {
    "duration": 1187,
    "start_time": "2024-08-23T18:34:31.087Z"
   },
   {
    "duration": 0,
    "start_time": "2024-08-23T18:34:32.278Z"
   },
   {
    "duration": 0,
    "start_time": "2024-08-23T18:34:32.280Z"
   },
   {
    "duration": 0,
    "start_time": "2024-08-23T18:34:32.282Z"
   },
   {
    "duration": 0,
    "start_time": "2024-08-23T18:34:32.284Z"
   },
   {
    "duration": 0,
    "start_time": "2024-08-23T18:34:32.286Z"
   },
   {
    "duration": 0,
    "start_time": "2024-08-23T18:34:32.289Z"
   },
   {
    "duration": 0,
    "start_time": "2024-08-23T18:34:32.291Z"
   },
   {
    "duration": 0,
    "start_time": "2024-08-23T18:34:32.292Z"
   },
   {
    "duration": 0,
    "start_time": "2024-08-23T18:34:32.294Z"
   },
   {
    "duration": 0,
    "start_time": "2024-08-23T18:34:32.296Z"
   },
   {
    "duration": 4,
    "start_time": "2024-08-23T18:34:33.572Z"
   },
   {
    "duration": 125,
    "start_time": "2024-08-23T18:34:34.314Z"
   },
   {
    "duration": 5,
    "start_time": "2024-08-23T18:34:49.044Z"
   },
   {
    "duration": 124,
    "start_time": "2024-08-23T18:34:49.511Z"
   },
   {
    "duration": 122,
    "start_time": "2024-08-23T18:35:38.722Z"
   },
   {
    "duration": 9,
    "start_time": "2024-08-23T18:42:50.451Z"
   },
   {
    "duration": 6,
    "start_time": "2024-08-23T18:43:11.197Z"
   },
   {
    "duration": 19,
    "start_time": "2024-08-23T18:45:09.520Z"
   },
   {
    "duration": 10,
    "start_time": "2024-08-23T18:45:25.751Z"
   },
   {
    "duration": 24,
    "start_time": "2024-08-23T18:45:27.051Z"
   },
   {
    "duration": 5,
    "start_time": "2024-08-23T18:45:32.143Z"
   },
   {
    "duration": 12,
    "start_time": "2024-08-23T18:45:33.106Z"
   },
   {
    "duration": 6,
    "start_time": "2024-08-23T18:45:34.401Z"
   },
   {
    "duration": 689,
    "start_time": "2024-08-23T18:45:36.141Z"
   },
   {
    "duration": 26173,
    "start_time": "2024-08-23T18:45:36.833Z"
   },
   {
    "duration": 274,
    "start_time": "2024-08-23T18:46:03.009Z"
   },
   {
    "duration": 4,
    "start_time": "2024-08-23T18:46:03.286Z"
   },
   {
    "duration": 145,
    "start_time": "2024-08-23T18:46:03.294Z"
   },
   {
    "duration": 7,
    "start_time": "2024-08-23T18:46:03.443Z"
   },
   {
    "duration": 10,
    "start_time": "2024-08-23T18:51:44.765Z"
   },
   {
    "duration": 4,
    "start_time": "2024-08-23T19:03:49.208Z"
   },
   {
    "duration": 9,
    "start_time": "2024-08-23T19:03:49.488Z"
   },
   {
    "duration": 6,
    "start_time": "2024-08-23T19:04:50.245Z"
   },
   {
    "duration": 1178,
    "start_time": "2024-08-23T19:08:40.679Z"
   },
   {
    "duration": 12,
    "start_time": "2024-08-23T19:08:41.861Z"
   },
   {
    "duration": 25,
    "start_time": "2024-08-23T19:08:41.875Z"
   },
   {
    "duration": 30,
    "start_time": "2024-08-23T19:08:41.903Z"
   },
   {
    "duration": 10,
    "start_time": "2024-08-23T19:08:41.937Z"
   },
   {
    "duration": 6,
    "start_time": "2024-08-23T19:08:41.950Z"
   },
   {
    "duration": 725,
    "start_time": "2024-08-23T19:08:41.959Z"
   },
   {
    "duration": 26337,
    "start_time": "2024-08-23T19:08:42.687Z"
   },
   {
    "duration": 275,
    "start_time": "2024-08-23T19:09:09.026Z"
   },
   {
    "duration": 4,
    "start_time": "2024-08-23T19:09:09.305Z"
   },
   {
    "duration": 139,
    "start_time": "2024-08-23T19:09:09.312Z"
   },
   {
    "duration": 8,
    "start_time": "2024-08-23T19:09:09.454Z"
   },
   {
    "duration": 810,
    "start_time": "2024-08-27T15:32:33.807Z"
   },
   {
    "duration": 17,
    "start_time": "2024-08-27T15:32:34.619Z"
   },
   {
    "duration": 13,
    "start_time": "2024-08-27T15:32:34.638Z"
   },
   {
    "duration": 4,
    "start_time": "2024-08-27T15:32:34.653Z"
   },
   {
    "duration": 5,
    "start_time": "2024-08-27T15:32:34.659Z"
   },
   {
    "duration": 4,
    "start_time": "2024-08-27T15:32:34.667Z"
   },
   {
    "duration": 445,
    "start_time": "2024-08-27T15:32:34.673Z"
   },
   {
    "duration": 15256,
    "start_time": "2024-08-27T15:32:35.120Z"
   },
   {
    "duration": 129,
    "start_time": "2024-08-27T15:32:50.378Z"
   },
   {
    "duration": 3,
    "start_time": "2024-08-27T15:32:50.510Z"
   },
   {
    "duration": 69,
    "start_time": "2024-08-27T15:32:50.514Z"
   },
   {
    "duration": 6,
    "start_time": "2024-08-27T15:32:50.599Z"
   },
   {
    "duration": 4,
    "start_time": "2024-08-27T15:42:29.971Z"
   },
   {
    "duration": 69,
    "start_time": "2024-08-27T15:50:14.776Z"
   },
   {
    "duration": 67,
    "start_time": "2024-08-27T15:50:36.195Z"
   },
   {
    "duration": 15877,
    "start_time": "2024-08-27T16:04:00.459Z"
   },
   {
    "duration": 6,
    "start_time": "2024-08-27T16:04:16.339Z"
   },
   {
    "duration": 838,
    "start_time": "2024-08-27T16:11:01.804Z"
   },
   {
    "duration": 10,
    "start_time": "2024-08-27T16:11:02.645Z"
   },
   {
    "duration": 15,
    "start_time": "2024-08-27T16:11:02.656Z"
   },
   {
    "duration": 4,
    "start_time": "2024-08-27T16:11:02.674Z"
   },
   {
    "duration": 20,
    "start_time": "2024-08-27T16:11:02.680Z"
   },
   {
    "duration": 4,
    "start_time": "2024-08-27T16:11:02.702Z"
   },
   {
    "duration": 268,
    "start_time": "2024-08-27T16:11:02.708Z"
   },
   {
    "duration": 1,
    "start_time": "2024-08-27T16:11:02.977Z"
   },
   {
    "duration": 0,
    "start_time": "2024-08-27T16:11:02.979Z"
   },
   {
    "duration": 0,
    "start_time": "2024-08-27T16:11:02.980Z"
   },
   {
    "duration": 0,
    "start_time": "2024-08-27T16:11:02.981Z"
   },
   {
    "duration": 7,
    "start_time": "2024-08-27T16:11:44.661Z"
   },
   {
    "duration": 787,
    "start_time": "2024-08-27T16:11:51.076Z"
   },
   {
    "duration": 8,
    "start_time": "2024-08-27T16:11:51.865Z"
   },
   {
    "duration": 24,
    "start_time": "2024-08-27T16:11:51.874Z"
   },
   {
    "duration": 4,
    "start_time": "2024-08-27T16:11:51.899Z"
   },
   {
    "duration": 6,
    "start_time": "2024-08-27T16:11:51.906Z"
   },
   {
    "duration": 5,
    "start_time": "2024-08-27T16:11:51.913Z"
   },
   {
    "duration": 461,
    "start_time": "2024-08-27T16:11:51.920Z"
   },
   {
    "duration": 15592,
    "start_time": "2024-08-27T16:11:52.383Z"
   },
   {
    "duration": 155,
    "start_time": "2024-08-27T16:12:07.977Z"
   },
   {
    "duration": 80,
    "start_time": "2024-08-27T16:12:08.134Z"
   },
   {
    "duration": 5,
    "start_time": "2024-08-27T16:12:08.216Z"
   },
   {
    "duration": 6,
    "start_time": "2024-08-27T16:12:52.123Z"
   },
   {
    "duration": 809,
    "start_time": "2024-08-27T16:12:59.559Z"
   },
   {
    "duration": 9,
    "start_time": "2024-08-27T16:13:00.371Z"
   },
   {
    "duration": 20,
    "start_time": "2024-08-27T16:13:00.381Z"
   },
   {
    "duration": 4,
    "start_time": "2024-08-27T16:13:00.403Z"
   },
   {
    "duration": 7,
    "start_time": "2024-08-27T16:13:00.408Z"
   },
   {
    "duration": 6,
    "start_time": "2024-08-27T16:13:00.417Z"
   },
   {
    "duration": 427,
    "start_time": "2024-08-27T16:13:00.425Z"
   },
   {
    "duration": 22,
    "start_time": "2024-08-27T16:13:15.877Z"
   },
   {
    "duration": 8,
    "start_time": "2024-08-27T16:13:15.901Z"
   },
   {
    "duration": 10,
    "start_time": "2024-08-27T16:13:15.910Z"
   },
   {
    "duration": 4,
    "start_time": "2024-08-27T16:13:15.921Z"
   },
   {
    "duration": 5,
    "start_time": "2024-08-27T16:13:15.927Z"
   },
   {
    "duration": 4,
    "start_time": "2024-08-27T16:13:15.934Z"
   },
   {
    "duration": 444,
    "start_time": "2024-08-27T16:13:15.939Z"
   },
   {
    "duration": 14632,
    "start_time": "2024-08-27T16:13:16.385Z"
   },
   {
    "duration": 146,
    "start_time": "2024-08-27T16:13:31.019Z"
   },
   {
    "duration": 72,
    "start_time": "2024-08-27T16:13:31.167Z"
   },
   {
    "duration": 5,
    "start_time": "2024-08-27T16:13:31.241Z"
   },
   {
    "duration": 68,
    "start_time": "2024-08-27T16:16:10.221Z"
   },
   {
    "duration": 2,
    "start_time": "2024-08-27T16:22:51.366Z"
   },
   {
    "duration": 3,
    "start_time": "2024-08-27T16:23:20.968Z"
   },
   {
    "duration": 772,
    "start_time": "2024-08-27T17:19:42.016Z"
   },
   {
    "duration": 18,
    "start_time": "2024-08-27T17:19:42.790Z"
   },
   {
    "duration": 13,
    "start_time": "2024-08-27T17:19:42.809Z"
   },
   {
    "duration": 4,
    "start_time": "2024-08-27T17:19:42.824Z"
   },
   {
    "duration": 15,
    "start_time": "2024-08-27T17:19:42.829Z"
   },
   {
    "duration": 4,
    "start_time": "2024-08-27T17:19:42.846Z"
   },
   {
    "duration": 409,
    "start_time": "2024-08-27T17:19:42.852Z"
   },
   {
    "duration": 3,
    "start_time": "2024-08-27T17:19:58.078Z"
   },
   {
    "duration": 8,
    "start_time": "2024-08-27T17:19:58.083Z"
   },
   {
    "duration": 11,
    "start_time": "2024-08-27T17:19:58.092Z"
   },
   {
    "duration": 4,
    "start_time": "2024-08-27T17:19:58.105Z"
   },
   {
    "duration": 37,
    "start_time": "2024-08-27T17:19:58.110Z"
   },
   {
    "duration": 4,
    "start_time": "2024-08-27T17:19:58.150Z"
   },
   {
    "duration": 400,
    "start_time": "2024-08-27T17:19:58.155Z"
   },
   {
    "duration": 14580,
    "start_time": "2024-08-27T17:19:58.557Z"
   },
   {
    "duration": 139,
    "start_time": "2024-08-27T17:20:13.140Z"
   },
   {
    "duration": 76,
    "start_time": "2024-08-27T17:20:13.281Z"
   },
   {
    "duration": 5,
    "start_time": "2024-08-27T17:20:13.359Z"
   }
  ],
  "kernelspec": {
   "display_name": "Python 3 (ipykernel)",
   "language": "python",
   "name": "python3"
  },
  "language_info": {
   "codemirror_mode": {
    "name": "ipython",
    "version": 3
   },
   "file_extension": ".py",
   "mimetype": "text/x-python",
   "name": "python",
   "nbconvert_exporter": "python",
   "pygments_lexer": "ipython3",
   "version": "3.9.19"
  },
  "toc": {
   "base_numbering": 1,
   "nav_menu": {},
   "number_sections": true,
   "sideBar": true,
   "skip_h1_title": true,
   "title_cell": "Table of Contents",
   "title_sidebar": "Contents",
   "toc_cell": false,
   "toc_position": {},
   "toc_section_display": true,
   "toc_window_display": false
  }
 },
 "nbformat": 4,
 "nbformat_minor": 2
}
