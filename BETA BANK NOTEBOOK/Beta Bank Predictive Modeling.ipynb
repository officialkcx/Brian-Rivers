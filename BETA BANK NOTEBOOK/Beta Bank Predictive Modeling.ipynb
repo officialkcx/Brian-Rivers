{
 "cells": [
  {
   "cell_type": "markdown",
   "metadata": {},
   "source": [
    "# Beta Bank Predictive Modeling - Retaining Customers"
   ]
  },
  {
   "cell_type": "markdown",
   "metadata": {},
   "source": [
    "## INTRODUCTION"
   ]
  },
  {
   "cell_type": "markdown",
   "metadata": {},
   "source": [
    "Beta Bank has provided a dataset to build and evaluate predictive models aimed at identifying whether customers are likely to leave the bank in the near future. The primary objective is to create a model that achieves an F-score of at least 0.59. The F-score balances two critical aspects:\n",
    "- Recall: Measures the ability to correctly identify true positives while minimizing false negatives.\n",
    "- Precision: Focuses on accurately predicting true positives while reducing false positives. \n",
    "\n",
    "The best-performing model will be selected based on this criterion.\n",
    "Below are the steps in preprocessing, machine learning preparations, model creation and testing, and an overview of the conclusions found."
   ]
  },
  {
   "cell_type": "markdown",
   "metadata": {},
   "source": [
    "## DATA PREPROCESSING"
   ]
  },
  {
   "cell_type": "code",
   "execution_count": 24,
   "metadata": {},
   "outputs": [],
   "source": [
    "# Importing necessary libraries\n",
    "\n",
    "import pandas as pd\n",
    "import numpy as np\n",
    "from sklearn.model_selection import train_test_split\n",
    "from sklearn.utils import resample\n",
    "from sklearn.metrics import accuracy_score\n",
    "from sklearn.tree import DecisionTreeClassifier\n",
    "from sklearn.ensemble import RandomForestClassifier\n",
    "from sklearn.model_selection import GridSearchCV\n",
    "from sklearn.tree import DecisionTreeRegressor\n",
    "from sklearn.linear_model import LogisticRegression\n",
    "from sklearn.metrics import f1_score\n",
    "from sklearn.metrics import roc_auc_score \n",
    "from sklearn.metrics import mean_squared_error\n",
    "from sklearn.preprocessing import StandardScaler\n",
    "from sklearn.utils import shuffle\n",
    "import matplotlib.pyplot as plt\n",
    "from sklearn.ensemble import RandomForestRegressor\n",
    "from sklearn.linear_model import LinearRegression\n",
    "from sklearn.metrics import precision_score, recall_score\n",
    "from sklearn.metrics import mean_absolute_error\n",
    "from sklearn.metrics import r2_score"
   ]
  },
  {
   "cell_type": "code",
   "execution_count": 26,
   "metadata": {},
   "outputs": [
    {
     "ename": "FileNotFoundError",
     "evalue": "[Errno 2] No such file or directory: '/datasets/Churn.csv'",
     "output_type": "error",
     "traceback": [
      "\u001b[0;31m---------------------------------------------------------------------------\u001b[0m",
      "\u001b[0;31mFileNotFoundError\u001b[0m                         Traceback (most recent call last)",
      "Cell \u001b[0;32mIn[26], line 2\u001b[0m\n\u001b[1;32m      1\u001b[0m \u001b[38;5;66;03m# Reading the dataset\u001b[39;00m\n\u001b[0;32m----> 2\u001b[0m df \u001b[38;5;241m=\u001b[39m pd\u001b[38;5;241m.\u001b[39mread_csv(\u001b[38;5;124m'\u001b[39m\u001b[38;5;124m/datasets/Churn.csv\u001b[39m\u001b[38;5;124m'\u001b[39m)\n\u001b[1;32m      3\u001b[0m df\u001b[38;5;241m.\u001b[39msample(\u001b[38;5;241m5\u001b[39m)\n",
      "File \u001b[0;32m~/Desktop/new_anaconda/anaconda3/lib/python3.12/site-packages/pandas/io/parsers/readers.py:1026\u001b[0m, in \u001b[0;36mread_csv\u001b[0;34m(filepath_or_buffer, sep, delimiter, header, names, index_col, usecols, dtype, engine, converters, true_values, false_values, skipinitialspace, skiprows, skipfooter, nrows, na_values, keep_default_na, na_filter, verbose, skip_blank_lines, parse_dates, infer_datetime_format, keep_date_col, date_parser, date_format, dayfirst, cache_dates, iterator, chunksize, compression, thousands, decimal, lineterminator, quotechar, quoting, doublequote, escapechar, comment, encoding, encoding_errors, dialect, on_bad_lines, delim_whitespace, low_memory, memory_map, float_precision, storage_options, dtype_backend)\u001b[0m\n\u001b[1;32m   1013\u001b[0m kwds_defaults \u001b[38;5;241m=\u001b[39m _refine_defaults_read(\n\u001b[1;32m   1014\u001b[0m     dialect,\n\u001b[1;32m   1015\u001b[0m     delimiter,\n\u001b[0;32m   (...)\u001b[0m\n\u001b[1;32m   1022\u001b[0m     dtype_backend\u001b[38;5;241m=\u001b[39mdtype_backend,\n\u001b[1;32m   1023\u001b[0m )\n\u001b[1;32m   1024\u001b[0m kwds\u001b[38;5;241m.\u001b[39mupdate(kwds_defaults)\n\u001b[0;32m-> 1026\u001b[0m \u001b[38;5;28;01mreturn\u001b[39;00m _read(filepath_or_buffer, kwds)\n",
      "File \u001b[0;32m~/Desktop/new_anaconda/anaconda3/lib/python3.12/site-packages/pandas/io/parsers/readers.py:620\u001b[0m, in \u001b[0;36m_read\u001b[0;34m(filepath_or_buffer, kwds)\u001b[0m\n\u001b[1;32m    617\u001b[0m _validate_names(kwds\u001b[38;5;241m.\u001b[39mget(\u001b[38;5;124m\"\u001b[39m\u001b[38;5;124mnames\u001b[39m\u001b[38;5;124m\"\u001b[39m, \u001b[38;5;28;01mNone\u001b[39;00m))\n\u001b[1;32m    619\u001b[0m \u001b[38;5;66;03m# Create the parser.\u001b[39;00m\n\u001b[0;32m--> 620\u001b[0m parser \u001b[38;5;241m=\u001b[39m TextFileReader(filepath_or_buffer, \u001b[38;5;241m*\u001b[39m\u001b[38;5;241m*\u001b[39mkwds)\n\u001b[1;32m    622\u001b[0m \u001b[38;5;28;01mif\u001b[39;00m chunksize \u001b[38;5;129;01mor\u001b[39;00m iterator:\n\u001b[1;32m    623\u001b[0m     \u001b[38;5;28;01mreturn\u001b[39;00m parser\n",
      "File \u001b[0;32m~/Desktop/new_anaconda/anaconda3/lib/python3.12/site-packages/pandas/io/parsers/readers.py:1620\u001b[0m, in \u001b[0;36mTextFileReader.__init__\u001b[0;34m(self, f, engine, **kwds)\u001b[0m\n\u001b[1;32m   1617\u001b[0m     \u001b[38;5;28mself\u001b[39m\u001b[38;5;241m.\u001b[39moptions[\u001b[38;5;124m\"\u001b[39m\u001b[38;5;124mhas_index_names\u001b[39m\u001b[38;5;124m\"\u001b[39m] \u001b[38;5;241m=\u001b[39m kwds[\u001b[38;5;124m\"\u001b[39m\u001b[38;5;124mhas_index_names\u001b[39m\u001b[38;5;124m\"\u001b[39m]\n\u001b[1;32m   1619\u001b[0m \u001b[38;5;28mself\u001b[39m\u001b[38;5;241m.\u001b[39mhandles: IOHandles \u001b[38;5;241m|\u001b[39m \u001b[38;5;28;01mNone\u001b[39;00m \u001b[38;5;241m=\u001b[39m \u001b[38;5;28;01mNone\u001b[39;00m\n\u001b[0;32m-> 1620\u001b[0m \u001b[38;5;28mself\u001b[39m\u001b[38;5;241m.\u001b[39m_engine \u001b[38;5;241m=\u001b[39m \u001b[38;5;28mself\u001b[39m\u001b[38;5;241m.\u001b[39m_make_engine(f, \u001b[38;5;28mself\u001b[39m\u001b[38;5;241m.\u001b[39mengine)\n",
      "File \u001b[0;32m~/Desktop/new_anaconda/anaconda3/lib/python3.12/site-packages/pandas/io/parsers/readers.py:1880\u001b[0m, in \u001b[0;36mTextFileReader._make_engine\u001b[0;34m(self, f, engine)\u001b[0m\n\u001b[1;32m   1878\u001b[0m     \u001b[38;5;28;01mif\u001b[39;00m \u001b[38;5;124m\"\u001b[39m\u001b[38;5;124mb\u001b[39m\u001b[38;5;124m\"\u001b[39m \u001b[38;5;129;01mnot\u001b[39;00m \u001b[38;5;129;01min\u001b[39;00m mode:\n\u001b[1;32m   1879\u001b[0m         mode \u001b[38;5;241m+\u001b[39m\u001b[38;5;241m=\u001b[39m \u001b[38;5;124m\"\u001b[39m\u001b[38;5;124mb\u001b[39m\u001b[38;5;124m\"\u001b[39m\n\u001b[0;32m-> 1880\u001b[0m \u001b[38;5;28mself\u001b[39m\u001b[38;5;241m.\u001b[39mhandles \u001b[38;5;241m=\u001b[39m get_handle(\n\u001b[1;32m   1881\u001b[0m     f,\n\u001b[1;32m   1882\u001b[0m     mode,\n\u001b[1;32m   1883\u001b[0m     encoding\u001b[38;5;241m=\u001b[39m\u001b[38;5;28mself\u001b[39m\u001b[38;5;241m.\u001b[39moptions\u001b[38;5;241m.\u001b[39mget(\u001b[38;5;124m\"\u001b[39m\u001b[38;5;124mencoding\u001b[39m\u001b[38;5;124m\"\u001b[39m, \u001b[38;5;28;01mNone\u001b[39;00m),\n\u001b[1;32m   1884\u001b[0m     compression\u001b[38;5;241m=\u001b[39m\u001b[38;5;28mself\u001b[39m\u001b[38;5;241m.\u001b[39moptions\u001b[38;5;241m.\u001b[39mget(\u001b[38;5;124m\"\u001b[39m\u001b[38;5;124mcompression\u001b[39m\u001b[38;5;124m\"\u001b[39m, \u001b[38;5;28;01mNone\u001b[39;00m),\n\u001b[1;32m   1885\u001b[0m     memory_map\u001b[38;5;241m=\u001b[39m\u001b[38;5;28mself\u001b[39m\u001b[38;5;241m.\u001b[39moptions\u001b[38;5;241m.\u001b[39mget(\u001b[38;5;124m\"\u001b[39m\u001b[38;5;124mmemory_map\u001b[39m\u001b[38;5;124m\"\u001b[39m, \u001b[38;5;28;01mFalse\u001b[39;00m),\n\u001b[1;32m   1886\u001b[0m     is_text\u001b[38;5;241m=\u001b[39mis_text,\n\u001b[1;32m   1887\u001b[0m     errors\u001b[38;5;241m=\u001b[39m\u001b[38;5;28mself\u001b[39m\u001b[38;5;241m.\u001b[39moptions\u001b[38;5;241m.\u001b[39mget(\u001b[38;5;124m\"\u001b[39m\u001b[38;5;124mencoding_errors\u001b[39m\u001b[38;5;124m\"\u001b[39m, \u001b[38;5;124m\"\u001b[39m\u001b[38;5;124mstrict\u001b[39m\u001b[38;5;124m\"\u001b[39m),\n\u001b[1;32m   1888\u001b[0m     storage_options\u001b[38;5;241m=\u001b[39m\u001b[38;5;28mself\u001b[39m\u001b[38;5;241m.\u001b[39moptions\u001b[38;5;241m.\u001b[39mget(\u001b[38;5;124m\"\u001b[39m\u001b[38;5;124mstorage_options\u001b[39m\u001b[38;5;124m\"\u001b[39m, \u001b[38;5;28;01mNone\u001b[39;00m),\n\u001b[1;32m   1889\u001b[0m )\n\u001b[1;32m   1890\u001b[0m \u001b[38;5;28;01massert\u001b[39;00m \u001b[38;5;28mself\u001b[39m\u001b[38;5;241m.\u001b[39mhandles \u001b[38;5;129;01mis\u001b[39;00m \u001b[38;5;129;01mnot\u001b[39;00m \u001b[38;5;28;01mNone\u001b[39;00m\n\u001b[1;32m   1891\u001b[0m f \u001b[38;5;241m=\u001b[39m \u001b[38;5;28mself\u001b[39m\u001b[38;5;241m.\u001b[39mhandles\u001b[38;5;241m.\u001b[39mhandle\n",
      "File \u001b[0;32m~/Desktop/new_anaconda/anaconda3/lib/python3.12/site-packages/pandas/io/common.py:873\u001b[0m, in \u001b[0;36mget_handle\u001b[0;34m(path_or_buf, mode, encoding, compression, memory_map, is_text, errors, storage_options)\u001b[0m\n\u001b[1;32m    868\u001b[0m \u001b[38;5;28;01melif\u001b[39;00m \u001b[38;5;28misinstance\u001b[39m(handle, \u001b[38;5;28mstr\u001b[39m):\n\u001b[1;32m    869\u001b[0m     \u001b[38;5;66;03m# Check whether the filename is to be opened in binary mode.\u001b[39;00m\n\u001b[1;32m    870\u001b[0m     \u001b[38;5;66;03m# Binary mode does not support 'encoding' and 'newline'.\u001b[39;00m\n\u001b[1;32m    871\u001b[0m     \u001b[38;5;28;01mif\u001b[39;00m ioargs\u001b[38;5;241m.\u001b[39mencoding \u001b[38;5;129;01mand\u001b[39;00m \u001b[38;5;124m\"\u001b[39m\u001b[38;5;124mb\u001b[39m\u001b[38;5;124m\"\u001b[39m \u001b[38;5;129;01mnot\u001b[39;00m \u001b[38;5;129;01min\u001b[39;00m ioargs\u001b[38;5;241m.\u001b[39mmode:\n\u001b[1;32m    872\u001b[0m         \u001b[38;5;66;03m# Encoding\u001b[39;00m\n\u001b[0;32m--> 873\u001b[0m         handle \u001b[38;5;241m=\u001b[39m \u001b[38;5;28mopen\u001b[39m(\n\u001b[1;32m    874\u001b[0m             handle,\n\u001b[1;32m    875\u001b[0m             ioargs\u001b[38;5;241m.\u001b[39mmode,\n\u001b[1;32m    876\u001b[0m             encoding\u001b[38;5;241m=\u001b[39mioargs\u001b[38;5;241m.\u001b[39mencoding,\n\u001b[1;32m    877\u001b[0m             errors\u001b[38;5;241m=\u001b[39merrors,\n\u001b[1;32m    878\u001b[0m             newline\u001b[38;5;241m=\u001b[39m\u001b[38;5;124m\"\u001b[39m\u001b[38;5;124m\"\u001b[39m,\n\u001b[1;32m    879\u001b[0m         )\n\u001b[1;32m    880\u001b[0m     \u001b[38;5;28;01melse\u001b[39;00m:\n\u001b[1;32m    881\u001b[0m         \u001b[38;5;66;03m# Binary mode\u001b[39;00m\n\u001b[1;32m    882\u001b[0m         handle \u001b[38;5;241m=\u001b[39m \u001b[38;5;28mopen\u001b[39m(handle, ioargs\u001b[38;5;241m.\u001b[39mmode)\n",
      "\u001b[0;31mFileNotFoundError\u001b[0m: [Errno 2] No such file or directory: '/datasets/Churn.csv'"
     ]
    }
   ],
   "source": [
    "# Reading the dataset\n",
    "df = pd.read_csv('/datasets/Churn.csv')\n",
    "df.sample(5)"
   ]
  },
  {
   "cell_type": "code",
   "execution_count": null,
   "metadata": {},
   "outputs": [],
   "source": [
    "print(df.info())"
   ]
  },
  {
   "cell_type": "code",
   "execution_count": null,
   "metadata": {},
   "outputs": [],
   "source": [
    "# Checking for missing values\n",
    "df.isna().sum()"
   ]
  },
  {
   "cell_type": "code",
   "execution_count": null,
   "metadata": {},
   "outputs": [],
   "source": [
    "# Replace missing 'Tenure' values with median value\n",
    "df['Tenure'].fillna(df['Tenure'].mean(), inplace=True)"
   ]
  },
  {
   "cell_type": "code",
   "execution_count": null,
   "metadata": {},
   "outputs": [],
   "source": [
    "df.isna().sum()"
   ]
  },
  {
   "cell_type": "code",
   "execution_count": null,
   "metadata": {},
   "outputs": [],
   "source": [
    "# Checking for duplicate rows\n",
    "df.duplicated().sum()"
   ]
  },
  {
   "cell_type": "code",
   "execution_count": null,
   "metadata": {},
   "outputs": [],
   "source": [
    "# Lowercasing columns\n",
    "df.columns= df.columns.str.lower()\n",
    "df"
   ]
  },
  {
   "cell_type": "code",
   "execution_count": null,
   "metadata": {},
   "outputs": [],
   "source": [
    "# Dropping irrelevant columns\n",
    "df.drop(columns=['rownumber', 'customerid', 'surname'], inplace=True)\n",
    "df"
   ]
  },
  {
   "cell_type": "code",
   "execution_count": null,
   "metadata": {},
   "outputs": [],
   "source": [
    "df.info()"
   ]
  },
  {
   "cell_type": "markdown",
   "metadata": {},
   "source": [
    "## Model Preparation"
   ]
  },
  {
   "cell_type": "markdown",
   "metadata": {},
   "source": [
    "### Finding Imbalance"
   ]
  },
  {
   "cell_type": "code",
   "execution_count": null,
   "metadata": {},
   "outputs": [],
   "source": [
    "# Use value_counts() to examine the distribution of the target variable exited:\n",
    "target_distribution = df['exited'].value_counts(normalize=True)\n",
    "target_distribution"
   ]
  },
  {
   "cell_type": "markdown",
   "metadata": {},
   "source": [
    "20% of customers left the bank, indicating a class imbalance with those who left representing the minority class.\n",
    "To account for the imbalance, the minority class will be upsampled."
   ]
  },
  {
   "cell_type": "markdown",
   "metadata": {},
   "source": [
    "### Upsampling"
   ]
  },
  {
   "cell_type": "code",
   "execution_count": null,
   "metadata": {},
   "outputs": [],
   "source": [
    "# Separate majority and minority classes\n",
    "df_majority = df[df['exited'] == 0]\n",
    "df_minority = df[df['exited'] == 1]\n",
    "\n",
    "# Upsample the minority class\n",
    "df_minority_upsampled = resample(df_minority, \n",
    "                                 replace=True,  # Sample with replacement\n",
    "                                 n_samples=len(df_majority),  # Match the majority class size\n",
    "                                 random_state=54321)  # Reproducibility\n",
    "\n",
    "# Combine the majority class with the upsampled minority class\n",
    "df_oversampled = pd.concat([df_majority, df_minority_upsampled])\n",
    "\n",
    "# Shuffle the dataset to mix minority and majority classes\n",
    "df_oversampled = df_oversampled.sample(frac=1, random_state=54321).reset_index(drop=True)\n",
    "\n",
    "# Check the new class distribution\n",
    "print(df_oversampled['exited'].value_counts())"
   ]
  },
  {
   "cell_type": "markdown",
   "metadata": {},
   "source": [
    "### One Hot encoding and scaling data"
   ]
  },
  {
   "cell_type": "code",
   "execution_count": null,
   "metadata": {},
   "outputs": [],
   "source": [
    "# Perform one-hot encoding\n",
    "features = pd.get_dummies(df.drop(columns=['exited']), columns=['geography', 'gender'], drop_first=True)\n",
    "target = df['exited']"
   ]
  },
  {
   "cell_type": "code",
   "execution_count": null,
   "metadata": {},
   "outputs": [],
   "source": [
    "# Split the data into training, validation, and test sets\n",
    "features_train, features_temp, target_train, target_temp = train_test_split(features, target, test_size=0.4, random_state=54321)\n",
    "features_valid, features_test, target_valid, target_test = train_test_split(features_temp, target_temp, test_size=0.5, random_state=54321)"
   ]
  },
  {
   "cell_type": "code",
   "execution_count": null,
   "metadata": {},
   "outputs": [],
   "source": [
    "# Apply scaling to the numerical features after splitting the data\n",
    "numeric_features = ['creditscore', 'age', 'balance', 'estimatedsalary']\n",
    "scaler = StandardScaler()"
   ]
  },
  {
   "cell_type": "code",
   "execution_count": null,
   "metadata": {},
   "outputs": [],
   "source": [
    "# Scale numerical features for the training, validation, and test sets\n",
    "features_train[numeric_features] = scaler.fit_transform(features_train[numeric_features])\n",
    "features_valid[numeric_features] = scaler.transform(features_valid[numeric_features])\n",
    "features_test[numeric_features] = scaler.transform(features_test[numeric_features])\n",
    "\n",
    "print(\"Training shape:\", features_train.shape)\n",
    "print(\"Validation shape:\", features_valid.shape)\n",
    "print(\"Test shape:\", features_test.shape)"
   ]
  },
  {
   "cell_type": "markdown",
   "metadata": {},
   "source": [
    "## Model Training Without Addressing Imbalance"
   ]
  },
  {
   "cell_type": "code",
   "execution_count": null,
   "metadata": {},
   "outputs": [],
   "source": [
    "# Logistic Regression\n",
    "LREGmodel = LogisticRegression(random_state=54321)\n",
    "LREGmodel.fit(features_train, target_train)\n",
    "LREG_pred = LREGmodel.predict(features_valid)\n",
    "LREG_f1 = f1_score(target_valid, LREG_pred)\n",
    "LREG_roc_auc = roc_auc_score(target_valid, LREG_pred) \n",
    "print(f'Logistic Regression - F1 Score: {LREG_f1}, AUC-ROC: {LREG_roc_auc}')\n",
    "\n",
    "# Decision Tree\n",
    "DTmodel = DecisionTreeClassifier(random_state=54321)\n",
    "DTmodel.fit(features_train, target_train)\n",
    "DT_pred = DTmodel.predict(features_valid)\n",
    "DT_f1 = f1_score(target_valid, DT_pred)\n",
    "DT_roc_auc = roc_auc_score(target_valid, DT_pred)\n",
    "print(f'Decision Tree - F1 Score: {DT_f1}, AUC-ROC: {DT_roc_auc}')\n",
    "\n",
    "# Random Forest\n",
    "RFmodel = RandomForestClassifier(random_state=54321)\n",
    "RFmodel.fit(features_train, target_train)\n",
    "RF_pred = RFmodel.predict(features_valid)\n",
    "RF_f1 = f1_score(target_valid, RF_pred)\n",
    "RF_roc_auc = roc_auc_score(target_valid, RF_pred)\n",
    "print(f'Random Forest - F1 Score: {RF_f1}, AUC-ROC: {RF_roc_auc}')"
   ]
  },
  {
   "cell_type": "markdown",
   "metadata": {},
   "source": [
    "- Logistic Regression: F1 Score: 0.301, AUC-ROC: 0.586\n",
    "The Logistic Regression model struggled to predict customer churn accurately, with both low F1 and AUC-ROC scores. It performed only slightly better than random guessing and failed to capture the relationship between the features and the target variable effectively.\n",
    "\n",
    "- Decision Tree: F1 Score: 0.488, AUC-ROC: 0.682\n",
    "The Decision Tree model showed an improvement over Logistic Regression, but it still exhibited significant misclassifications and difficulty in accurately predicting customers who would churn.\n",
    "\n",
    "- Random Forest: F1 Score: 0.556, AUC-ROC: 0.701\n",
    "Among the three models, Random Forest performed the best, achieving a higher F1 score and AUC-ROC. Despite its better performance, it still left room for improvement in terms of refining predictions and handling class imbalance.\n",
    "\n"
   ]
  },
  {
   "cell_type": "markdown",
   "metadata": {},
   "source": [
    "## Model Training While Adressing Imbalance "
   ]
  },
  {
   "cell_type": "markdown",
   "metadata": {},
   "source": [
    "### Upsampling the Minority Class (only in training data)"
   ]
  },
  {
   "cell_type": "code",
   "execution_count": null,
   "metadata": {},
   "outputs": [],
   "source": [
    "# Define the upsampling function (if not already defined earlier)\n",
    "def upsample(features, target, repeat):\n",
    "    features_zeros = features[target == 0]\n",
    "    features_ones = features[target == 1]\n",
    "    target_zeros = target[target == 0]\n",
    "    target_ones = target[target == 1]\n",
    "\n",
    "    features_upsampled = pd.concat([features_zeros] + [features_ones] * repeat)\n",
    "    target_upsampled = pd.concat([target_zeros] + [target_ones] * repeat)\n",
    "\n",
    "    features_upsampled, target_upsampled = shuffle(features_upsampled, target_upsampled, random_state=12345)\n",
    "\n",
    "    return features_upsampled, target_upsampled\n",
    "\n",
    "# Apply upsampling to training data only\n",
    "features_train_upsampled, target_train_upsampled = upsample(features_train, target_train, 10)"
   ]
  },
  {
   "cell_type": "code",
   "execution_count": null,
   "metadata": {},
   "outputs": [],
   "source": [
    "# Initialize the Random Forest model\n",
    "rf_model = RandomForestClassifier(random_state=54321)\n",
    "\n",
    "# Fit the Random Forest model on the upsampled training data\n",
    "rf_model.fit(features_train_upsampled, target_train_upsampled)\n",
    "\n",
    "# Predict on validation set\n",
    "rf_pred_valid = rf_model.predict(features_valid)\n",
    "\n",
    "# Calculate F1 and AUC-ROC on validation data\n",
    "rf_f1_valid = f1_score(target_valid, rf_pred_valid)\n",
    "rf_roc_auc_valid = roc_auc_score(target_valid, rf_pred_valid)\n",
    "\n",
    "print(f'Random Forest (Upsampling) - Validation F1 Score: {rf_f1_valid}, AUC-ROC: {rf_roc_auc_valid}')"
   ]
  },
  {
   "cell_type": "markdown",
   "metadata": {},
   "source": [
    "Upsampling the Minority Class:\n",
    "To address the imbalance in the dataset, we applied upsampling to the minority class (customers who left the bank) in the training data for the Random Forest model. This helped improve the model’s ability to predict customer churn. After upsampling, Random Forest achieved:\n",
    "\n",
    "- Validation F1 Score: 0.590\n",
    "- Validation AUC-ROC: 0.733"
   ]
  },
  {
   "cell_type": "markdown",
   "metadata": {},
   "source": [
    "### Class-weighting"
   ]
  },
  {
   "cell_type": "code",
   "execution_count": null,
   "metadata": {},
   "outputs": [],
   "source": [
    "# Logistic Regression with class_weight='balanced'\n",
    "LREG_model_weighted = LogisticRegression(random_state=54321, class_weight='balanced')\n",
    "LREG_model_weighted.fit(features_train, target_train)\n",
    "\n",
    "# Predict on validation set\n",
    "LREG_pred_weighted = LREG_model_weighted.predict(features_valid)\n",
    "\n",
    "# Calculate F1 and AUC-ROC on validation data\n",
    "LREG_f1_weighted = f1_score(target_valid, LREG_pred_weighted)\n",
    "LREG_roc_auc_weighted = roc_auc_score(target_valid, LREG_pred_weighted)\n",
    "\n",
    "print(f'Logistic Regression (Class Weight) - F1 Score: {LREG_f1_weighted}, AUC-ROC: {LREG_roc_auc_weighted}')\n"
   ]
  },
  {
   "cell_type": "code",
   "execution_count": null,
   "metadata": {},
   "outputs": [],
   "source": [
    "# Decision Tree with class_weight='balanced'\n",
    "DT_model_weighted = DecisionTreeClassifier(random_state=54321, class_weight='balanced')\n",
    "DT_model_weighted.fit(features_train, target_train)\n",
    "\n",
    "# Predict on validation set\n",
    "DT_pred_weighted = DT_model_weighted.predict(features_valid)\n",
    "\n",
    "# Calculate F1 and AUC-ROC on validation data\n",
    "DT_f1_weighted = f1_score(target_valid, DT_pred_weighted)\n",
    "DT_roc_auc_weighted = roc_auc_score(target_valid, DT_pred_weighted)\n",
    "\n",
    "print(f'Decision Tree (Class Weight) - F1 Score: {DT_f1_weighted}, AUC-ROC: {DT_roc_auc_weighted}')\n"
   ]
  },
  {
   "cell_type": "markdown",
   "metadata": {},
   "source": [
    "Class-Weighting Approach:\n",
    "Class-weighting was applied to both Logistic Regression and Decision Tree models, allowing the models to place more emphasis on the minority class during training:\n",
    "\n",
    "- Logistic Regression (Class Weight): F1 Score: 0.513, AUC-ROC: 0.725\n",
    "This improved performance but still did not outperform Random Forest.\n",
    "\n",
    "- Decision Tree (Class Weight): F1 Score: 0.456, AUC-ROC: 0.660\n",
    "While slightly better than the untuned version, the Decision Tree still struggled in comparison to Random Forest."
   ]
  },
  {
   "cell_type": "markdown",
   "metadata": {},
   "source": [
    "## Hyperparameter Tuning"
   ]
  },
  {
   "cell_type": "markdown",
   "metadata": {},
   "source": [
    "### Random Forest Hyperparameter Tuning"
   ]
  },
  {
   "cell_type": "code",
   "execution_count": null,
   "metadata": {},
   "outputs": [],
   "source": [
    "# Define the hyperparameters grid\n",
    "param_grid = {\n",
    "    'n_estimators': [50, 100, 150],\n",
    "    'max_depth': [10, 20, 30],\n",
    "    'min_samples_split': [2, 5, 10]\n",
    "}\n",
    "\n",
    "# Initialize the Random Forest model\n",
    "rf_model = RandomForestClassifier(random_state=54321)\n",
    "\n",
    "# Initialize GridSearchCV with cross-validation\n",
    "grid_search = GridSearchCV(rf_model, param_grid, cv=5, scoring='f1')\n",
    "\n",
    "# Fit the model on the upsampled training data\n",
    "grid_search.fit(features_train, target_train)\n",
    "\n",
    "# Retrieve the best parameters from GridSearch\n",
    "best_params = grid_search.best_params_\n",
    "\n",
    "# Best Random Forest model\n",
    "best_rf_model = grid_search.best_estimator_"
   ]
  },
  {
   "cell_type": "markdown",
   "metadata": {},
   "source": [
    "### Logistic Regression Hyperparameter Tuning"
   ]
  },
  {
   "cell_type": "code",
   "execution_count": null,
   "metadata": {},
   "outputs": [],
   "source": [
    "# Define the hyperparameters grid for Logistic Regression\n",
    "log_reg_param_grid = {\n",
    "    'C': [0.01, 0.1, 1, 10],  # Regularization strength\n",
    "    'solver': ['liblinear', 'saga']  # Solver options\n",
    "}\n",
    "\n",
    "# Initialize the Logistic Regression model with class_weight='balanced' to handle imbalance\n",
    "log_reg_model = LogisticRegression(random_state=54321, class_weight='balanced')\n",
    "\n",
    "# Initialize GridSearchCV for Logistic Regression with cross-validation\n",
    "log_reg_grid_search = GridSearchCV(log_reg_model, log_reg_param_grid, cv=5, scoring='f1')\n",
    "\n",
    "# Fit the Logistic Regression model on the training data\n",
    "log_reg_grid_search.fit(features_train, target_train)\n",
    "\n",
    "# Retrieve the best parameters from GridSearchCV\n",
    "best_log_reg_params = log_reg_grid_search.best_params_\n",
    "\n",
    "# Best Logistic Regression model\n",
    "best_log_reg_model = log_reg_grid_search.best_estimator_\n",
    "\n",
    "# Evaluate the best Logistic Regression model on the validation set\n",
    "log_reg_pred_valid = best_log_reg_model.predict(features_valid)\n",
    "\n",
    "# Calculate validation metrics\n",
    "log_reg_f1_valid = f1_score(target_valid, log_reg_pred_valid)\n",
    "log_reg_roc_auc_valid = roc_auc_score(target_valid, log_reg_pred_valid)\n",
    "\n",
    "# Print validation results for Logistic Regression\n",
    "print(f'Best Logistic Regression Model - Validation F1 Score: {log_reg_f1_valid}, AUC-ROC: {log_reg_roc_auc_valid}')\n"
   ]
  },
  {
   "cell_type": "markdown",
   "metadata": {},
   "source": [
    "Hyperparameter Tuning Results:\n",
    "After tuning using GridSearchCV, the best Random Forest model achieved the following results on the validation set:\n",
    "\n",
    "- Validation F1 Score: 0.594\n",
    "- Validation AUC-ROC: 0.733\n",
    "Finally, when the best-tuned Random Forest model was evaluated on the test set, it achieved:\n",
    "\n",
    "- Test F1 Score: 0.614\n",
    "- Test AUC-ROC: 0.744\n"
   ]
  },
  {
   "cell_type": "markdown",
   "metadata": {},
   "source": [
    "### Evaluating on the Validation Set"
   ]
  },
  {
   "cell_type": "code",
   "execution_count": null,
   "metadata": {},
   "outputs": [],
   "source": [
    "predicted_valid = best_rf_model.predict(features_valid)\n",
    "\n",
    "# Calculate validation metrics\n",
    "best_rf_f1_valid = f1_score(target_valid, predicted_valid)\n",
    "best_rf_roc_auc_valid = roc_auc_score(target_valid, predicted_valid)\n",
    "\n",
    "# Print validation results\n",
    "print(f'Best Random Forest Model - Validation F1 Score: {best_rf_f1_valid}, AUC-ROC: {best_rf_roc_auc_valid}')"
   ]
  },
  {
   "cell_type": "markdown",
   "metadata": {},
   "source": [
    "### Evaluating the Final Model on the Test Set"
   ]
  },
  {
   "cell_type": "code",
   "execution_count": null,
   "metadata": {},
   "outputs": [],
   "source": [
    "predicted_test = best_rf_model.predict(features_test)\n",
    "\n",
    "test_f1 = f1_score(target_test, predicted_test)\n",
    "test_roc_auc = roc_auc_score(target_test, predicted_test)\n",
    "\n",
    "print(f'Best Random Forest Model - Test F1 Score: {test_f1}, AUC-ROC: {test_roc_auc}')"
   ]
  },
  {
   "cell_type": "markdown",
   "metadata": {},
   "source": [
    "The results of the Random Forest model after hyperparameter tuning on the upsampled training data indicate some improvement in performance. Initially, we evaluated three models: Logistic Regression, Decision Tree, and Random Forest on the validation set, with the following results:\n",
    "\n",
    "- Logistic Regression: F1 Score: 0.301, AUC-ROC: 0.586\n",
    "- Decision Tree: F1 Score: 0.488, AUC-ROC: 0.682\n",
    "- Random Forest: F1 Score: 0.556, AUC-ROC: 0.701\n",
    "Among these, the Random Forest model performed the best, though the results showed room for improvement. To address this, we applied upsampling to the minority class in the training data and performed hyperparameter tuning using GridSearchCV.\n",
    "\n",
    "After tuning, the best Random Forest model achieved the following performance metrics on the validation set:\n",
    "\n",
    "- Validation F1 Score: 0.549\n",
    "- Validation AUC-ROC: 0.698\n",
    "Finally, when the model was evaluated on the test set, it produced the following results:\n",
    "\n",
    "- Test F1 Score: 0.624\n",
    "- Test AUC-ROC: 0.739\n",
    "These results show that the Random Forest model, after tuning and handling class imbalance, performed better than the initial models but still leaves some room for further optimization."
   ]
  },
  {
   "cell_type": "markdown",
   "metadata": {},
   "source": [
    "# Conclusion"
   ]
  },
  {
   "cell_type": "markdown",
   "metadata": {},
   "source": [
    "In this project, the objective was to develop predictive models that could accurately identify Beta Bank customers who are likely to leave in the near future. Given the class imbalance in the data, where a smaller proportion of customers were leaving the bank compared to those staying, the primary goal was to build models that could achieve a minimum F1 score of 0.59 while addressing this imbalance.\n",
    "\n",
    "We initially evaluated three models: Logistic Regression, Decision Tree, and Random Forest, without implementing any techniques to handle class imbalance. Among these models, Random Forest showed the best performance with an F1 score of 0.556 on the validation set, though there was still room for improvement, particularly in refining the model’s ability to handle the minority class effectively.\n",
    "\n",
    "To enhance model performance, we applied upsampling to the minority class in the training data and incorporated class-weighting into the models. Additionally, we conducted hyperparameter tuning for Random Forest using GridSearchCV, which further improved the model's performance. The optimized Random Forest model achieved an F1 score of 0.594 on the validation set and 0.614 on the test set. The AUC-ROC score also improved, reaching 0.744 on the test set, which demonstrated the model's ability to effectively distinguish between customers who would stay and those who would leave.\n",
    "\n",
    "In conclusion, by addressing class imbalance and fine-tuning the models, the Random Forest model emerged as the top-performing model, offering a solid balance between precision and recall. This model is well-suited for deployment at Beta Bank, where it can be used to identify customers at risk of leaving, allowing the bank to take proactive measures to improve customer retention."
   ]
  },
  {
   "cell_type": "code",
   "execution_count": null,
   "metadata": {},
   "outputs": [],
   "source": []
  }
 ],
 "metadata": {
  "ExecuteTimeLog": [
   {
    "duration": 324,
    "start_time": "2024-09-04T17:23:42.094Z"
   },
   {
    "duration": 32,
    "start_time": "2024-09-04T17:24:09.535Z"
   },
   {
    "duration": 21,
    "start_time": "2024-09-04T17:24:10.872Z"
   },
   {
    "duration": 11,
    "start_time": "2024-09-04T17:24:42.810Z"
   },
   {
    "duration": 173,
    "start_time": "2024-09-04T17:24:51.701Z"
   },
   {
    "duration": 12,
    "start_time": "2024-09-04T17:24:56.725Z"
   },
   {
    "duration": 2,
    "start_time": "2024-09-04T17:24:59.913Z"
   },
   {
    "duration": 15,
    "start_time": "2024-09-04T17:25:00.294Z"
   },
   {
    "duration": 17,
    "start_time": "2024-09-04T17:25:00.688Z"
   },
   {
    "duration": 10,
    "start_time": "2024-09-04T17:25:01.121Z"
   },
   {
    "duration": 10,
    "start_time": "2024-09-04T17:25:10.662Z"
   },
   {
    "duration": 28,
    "start_time": "2024-09-04T17:25:14.422Z"
   },
   {
    "duration": 11,
    "start_time": "2024-09-04T17:25:25.461Z"
   },
   {
    "duration": 11,
    "start_time": "2024-09-04T17:25:35.009Z"
   },
   {
    "duration": 7,
    "start_time": "2024-09-04T17:25:55.471Z"
   },
   {
    "duration": 195,
    "start_time": "2024-09-04T21:10:42.361Z"
   },
   {
    "duration": 3319,
    "start_time": "2024-09-04T21:10:45.956Z"
   },
   {
    "duration": 30,
    "start_time": "2024-09-04T21:10:49.278Z"
   },
   {
    "duration": 10,
    "start_time": "2024-09-04T21:12:50.896Z"
   },
   {
    "duration": 101,
    "start_time": "2024-09-04T21:13:14.585Z"
   },
   {
    "duration": 6,
    "start_time": "2024-09-04T21:13:25.782Z"
   },
   {
    "duration": 12,
    "start_time": "2024-09-04T21:17:51.887Z"
   },
   {
    "duration": 8,
    "start_time": "2024-09-04T21:18:48.361Z"
   },
   {
    "duration": 8,
    "start_time": "2024-09-04T21:18:53.753Z"
   },
   {
    "duration": 10,
    "start_time": "2024-09-04T21:19:08.465Z"
   },
   {
    "duration": 9,
    "start_time": "2024-09-04T21:19:47.294Z"
   },
   {
    "duration": 2,
    "start_time": "2024-09-04T21:20:11.499Z"
   },
   {
    "duration": 17,
    "start_time": "2024-09-04T21:20:17.130Z"
   },
   {
    "duration": 3,
    "start_time": "2024-09-04T21:21:04.143Z"
   },
   {
    "duration": 4,
    "start_time": "2024-09-04T21:25:16.302Z"
   },
   {
    "duration": 24,
    "start_time": "2024-09-04T21:25:16.616Z"
   },
   {
    "duration": 10,
    "start_time": "2024-09-04T21:25:16.917Z"
   },
   {
    "duration": 6,
    "start_time": "2024-09-04T21:25:17.260Z"
   },
   {
    "duration": 15,
    "start_time": "2024-09-04T21:25:17.786Z"
   },
   {
    "duration": 9,
    "start_time": "2024-09-04T21:25:18.042Z"
   },
   {
    "duration": 25,
    "start_time": "2024-09-04T21:25:18.504Z"
   },
   {
    "duration": 2913,
    "start_time": "2024-09-05T16:24:31.395Z"
   },
   {
    "duration": 33,
    "start_time": "2024-09-05T16:24:34.310Z"
   },
   {
    "duration": 11,
    "start_time": "2024-09-05T16:24:34.345Z"
   },
   {
    "duration": 8,
    "start_time": "2024-09-05T16:24:34.358Z"
   },
   {
    "duration": 12,
    "start_time": "2024-09-05T16:24:34.368Z"
   },
   {
    "duration": 10,
    "start_time": "2024-09-05T16:24:34.381Z"
   },
   {
    "duration": 20,
    "start_time": "2024-09-05T16:24:34.393Z"
   },
   {
    "duration": 5,
    "start_time": "2024-09-05T16:24:45.168Z"
   },
   {
    "duration": 25,
    "start_time": "2024-09-05T16:24:45.519Z"
   },
   {
    "duration": 10,
    "start_time": "2024-09-05T16:24:45.667Z"
   },
   {
    "duration": 7,
    "start_time": "2024-09-05T16:24:46.074Z"
   },
   {
    "duration": 10,
    "start_time": "2024-09-05T16:24:46.591Z"
   },
   {
    "duration": 14,
    "start_time": "2024-09-05T16:24:47.091Z"
   },
   {
    "duration": 22,
    "start_time": "2024-09-05T16:24:47.632Z"
   },
   {
    "duration": 162,
    "start_time": "2024-09-05T16:28:40.583Z"
   },
   {
    "duration": 4,
    "start_time": "2024-09-05T16:28:46.094Z"
   },
   {
    "duration": 27,
    "start_time": "2024-09-05T16:28:46.276Z"
   },
   {
    "duration": 11,
    "start_time": "2024-09-05T16:28:46.464Z"
   },
   {
    "duration": 7,
    "start_time": "2024-09-05T16:28:46.661Z"
   },
   {
    "duration": 9,
    "start_time": "2024-09-05T16:28:46.858Z"
   },
   {
    "duration": 11,
    "start_time": "2024-09-05T16:28:47.430Z"
   },
   {
    "duration": 21,
    "start_time": "2024-09-05T16:28:47.753Z"
   },
   {
    "duration": 35,
    "start_time": "2024-09-05T16:28:52.489Z"
   },
   {
    "duration": 6,
    "start_time": "2024-09-05T16:30:14.279Z"
   },
   {
    "duration": 8,
    "start_time": "2024-09-05T16:30:20.948Z"
   },
   {
    "duration": 2,
    "start_time": "2024-09-05T16:31:36.863Z"
   },
   {
    "duration": 219,
    "start_time": "2024-09-05T16:34:36.264Z"
   },
   {
    "duration": 17,
    "start_time": "2024-09-05T16:34:48.086Z"
   },
   {
    "duration": 21,
    "start_time": "2024-09-05T16:34:48.440Z"
   },
   {
    "duration": 16,
    "start_time": "2024-09-05T16:35:08.430Z"
   },
   {
    "duration": 17,
    "start_time": "2024-09-05T16:35:08.928Z"
   },
   {
    "duration": 15,
    "start_time": "2024-09-05T16:35:49.939Z"
   },
   {
    "duration": 880,
    "start_time": "2024-09-05T16:36:02.320Z"
   },
   {
    "duration": 25,
    "start_time": "2024-09-05T16:36:03.202Z"
   },
   {
    "duration": 17,
    "start_time": "2024-09-05T16:36:03.229Z"
   },
   {
    "duration": 6,
    "start_time": "2024-09-05T16:36:03.249Z"
   },
   {
    "duration": 9,
    "start_time": "2024-09-05T16:36:03.257Z"
   },
   {
    "duration": 9,
    "start_time": "2024-09-05T16:36:03.267Z"
   },
   {
    "duration": 16,
    "start_time": "2024-09-05T16:36:03.277Z"
   },
   {
    "duration": 2,
    "start_time": "2024-09-05T16:36:03.295Z"
   },
   {
    "duration": 46,
    "start_time": "2024-09-05T16:36:03.299Z"
   },
   {
    "duration": 17,
    "start_time": "2024-09-05T16:36:03.347Z"
   },
   {
    "duration": 8,
    "start_time": "2024-09-05T16:36:03.366Z"
   },
   {
    "duration": 2,
    "start_time": "2024-09-05T16:36:09.280Z"
   },
   {
    "duration": 10,
    "start_time": "2024-09-05T16:36:09.678Z"
   },
   {
    "duration": 31,
    "start_time": "2024-09-05T16:36:11.648Z"
   },
   {
    "duration": 270,
    "start_time": "2024-09-05T16:43:48.050Z"
   },
   {
    "duration": 14,
    "start_time": "2024-09-05T16:44:19.812Z"
   },
   {
    "duration": 420,
    "start_time": "2024-09-05T16:45:08.133Z"
   },
   {
    "duration": 7,
    "start_time": "2024-09-05T16:45:17.711Z"
   },
   {
    "duration": 3,
    "start_time": "2024-09-05T16:45:19.570Z"
   },
   {
    "duration": 17,
    "start_time": "2024-09-05T16:45:20.324Z"
   },
   {
    "duration": 8,
    "start_time": "2024-09-05T16:45:22.915Z"
   },
   {
    "duration": 16,
    "start_time": "2024-09-05T16:53:47.666Z"
   },
   {
    "duration": 18,
    "start_time": "2024-09-05T16:55:37.763Z"
   },
   {
    "duration": 15,
    "start_time": "2024-09-05T16:55:46.817Z"
   },
   {
    "duration": 2735,
    "start_time": "2024-09-09T14:18:11.708Z"
   },
   {
    "duration": 43,
    "start_time": "2024-09-09T14:18:14.445Z"
   },
   {
    "duration": 13,
    "start_time": "2024-09-09T14:18:14.490Z"
   },
   {
    "duration": 7,
    "start_time": "2024-09-09T14:18:14.505Z"
   },
   {
    "duration": 12,
    "start_time": "2024-09-09T14:18:14.515Z"
   },
   {
    "duration": 23,
    "start_time": "2024-09-09T14:18:14.529Z"
   },
   {
    "duration": 17,
    "start_time": "2024-09-09T14:18:14.554Z"
   },
   {
    "duration": 6,
    "start_time": "2024-09-09T14:18:14.574Z"
   },
   {
    "duration": 0,
    "start_time": "2024-09-09T14:18:14.581Z"
   },
   {
    "duration": 0,
    "start_time": "2024-09-09T14:18:14.583Z"
   },
   {
    "duration": 0,
    "start_time": "2024-09-09T14:18:14.584Z"
   },
   {
    "duration": 0,
    "start_time": "2024-09-09T14:18:14.585Z"
   },
   {
    "duration": 4,
    "start_time": "2024-09-09T14:18:21.839Z"
   },
   {
    "duration": 22,
    "start_time": "2024-09-09T14:18:22.037Z"
   },
   {
    "duration": 11,
    "start_time": "2024-09-09T14:18:22.239Z"
   },
   {
    "duration": 7,
    "start_time": "2024-09-09T14:18:22.454Z"
   },
   {
    "duration": 8,
    "start_time": "2024-09-09T14:18:22.659Z"
   },
   {
    "duration": 9,
    "start_time": "2024-09-09T14:18:22.857Z"
   },
   {
    "duration": 17,
    "start_time": "2024-09-09T14:18:23.092Z"
   },
   {
    "duration": 5,
    "start_time": "2024-09-09T14:18:23.459Z"
   },
   {
    "duration": 237,
    "start_time": "2024-09-09T14:18:23.750Z"
   },
   {
    "duration": 0,
    "start_time": "2024-09-09T14:18:23.989Z"
   },
   {
    "duration": 14,
    "start_time": "2024-09-09T14:18:24.319Z"
   },
   {
    "duration": 14,
    "start_time": "2024-09-09T14:18:24.496Z"
   },
   {
    "duration": 3,
    "start_time": "2024-09-09T14:18:35.272Z"
   },
   {
    "duration": 23,
    "start_time": "2024-09-09T14:18:35.862Z"
   },
   {
    "duration": 10,
    "start_time": "2024-09-09T14:18:36.349Z"
   },
   {
    "duration": 7,
    "start_time": "2024-09-09T14:18:36.878Z"
   },
   {
    "duration": 9,
    "start_time": "2024-09-09T14:18:37.416Z"
   },
   {
    "duration": 10,
    "start_time": "2024-09-09T14:18:37.962Z"
   },
   {
    "duration": 17,
    "start_time": "2024-09-09T14:18:38.518Z"
   },
   {
    "duration": 625,
    "start_time": "2024-09-09T14:18:51.653Z"
   },
   {
    "duration": 20,
    "start_time": "2024-09-09T14:19:31.193Z"
   },
   {
    "duration": 4,
    "start_time": "2024-09-09T14:19:43.345Z"
   },
   {
    "duration": 15,
    "start_time": "2024-09-09T14:19:49.676Z"
   },
   {
    "duration": 15,
    "start_time": "2024-09-09T14:19:52.493Z"
   },
   {
    "duration": 13,
    "start_time": "2024-09-09T14:19:56.515Z"
   },
   {
    "duration": 14,
    "start_time": "2024-09-09T14:19:58.593Z"
   },
   {
    "duration": 2,
    "start_time": "2024-09-09T14:20:14.224Z"
   },
   {
    "duration": 3,
    "start_time": "2024-09-09T14:20:33.301Z"
   },
   {
    "duration": 2,
    "start_time": "2024-09-09T14:20:38.501Z"
   },
   {
    "duration": 2,
    "start_time": "2024-09-09T14:20:38.905Z"
   },
   {
    "duration": 17,
    "start_time": "2024-09-09T14:46:43.456Z"
   },
   {
    "duration": 16,
    "start_time": "2024-09-09T14:47:08.078Z"
   },
   {
    "duration": 17,
    "start_time": "2024-09-09T14:54:48.118Z"
   },
   {
    "duration": 9,
    "start_time": "2024-09-09T14:55:06.197Z"
   },
   {
    "duration": 9,
    "start_time": "2024-09-09T14:55:09.574Z"
   },
   {
    "duration": 6,
    "start_time": "2024-09-09T15:01:07.457Z"
   },
   {
    "duration": 7,
    "start_time": "2024-09-09T15:04:40.429Z"
   },
   {
    "duration": 15,
    "start_time": "2024-09-09T15:11:59.471Z"
   },
   {
    "duration": 45,
    "start_time": "2024-09-09T15:12:15.399Z"
   },
   {
    "duration": 9,
    "start_time": "2024-09-09T15:14:03.781Z"
   },
   {
    "duration": 25,
    "start_time": "2024-09-09T15:20:55.685Z"
   },
   {
    "duration": 9,
    "start_time": "2024-09-09T15:21:04.041Z"
   },
   {
    "duration": 870,
    "start_time": "2024-09-09T15:31:16.864Z"
   },
   {
    "duration": 822,
    "start_time": "2024-09-09T15:31:34.113Z"
   },
   {
    "duration": 2808,
    "start_time": "2024-09-11T14:18:47.152Z"
   },
   {
    "duration": 37,
    "start_time": "2024-09-11T14:18:49.962Z"
   },
   {
    "duration": 10,
    "start_time": "2024-09-11T14:18:50.001Z"
   },
   {
    "duration": 6,
    "start_time": "2024-09-11T14:18:50.013Z"
   },
   {
    "duration": 10,
    "start_time": "2024-09-11T14:18:50.030Z"
   },
   {
    "duration": 10,
    "start_time": "2024-09-11T14:18:50.042Z"
   },
   {
    "duration": 17,
    "start_time": "2024-09-11T14:18:50.427Z"
   },
   {
    "duration": 16,
    "start_time": "2024-09-11T14:18:50.965Z"
   },
   {
    "duration": 9,
    "start_time": "2024-09-11T14:18:51.545Z"
   },
   {
    "duration": 5,
    "start_time": "2024-09-11T14:18:53.245Z"
   },
   {
    "duration": 23,
    "start_time": "2024-09-11T14:18:53.937Z"
   },
   {
    "duration": 2774,
    "start_time": "2024-09-13T19:02:27.055Z"
   },
   {
    "duration": 39,
    "start_time": "2024-09-13T19:02:29.833Z"
   },
   {
    "duration": 12,
    "start_time": "2024-09-13T19:02:29.874Z"
   },
   {
    "duration": 6,
    "start_time": "2024-09-13T19:02:29.888Z"
   },
   {
    "duration": 20,
    "start_time": "2024-09-13T19:02:29.897Z"
   },
   {
    "duration": 10,
    "start_time": "2024-09-13T19:02:29.920Z"
   },
   {
    "duration": 19,
    "start_time": "2024-09-13T19:02:29.931Z"
   },
   {
    "duration": 19,
    "start_time": "2024-09-13T19:02:29.952Z"
   },
   {
    "duration": 42,
    "start_time": "2024-09-13T19:02:29.973Z"
   },
   {
    "duration": 4,
    "start_time": "2024-09-13T19:02:30.019Z"
   },
   {
    "duration": 25,
    "start_time": "2024-09-13T19:02:30.025Z"
   },
   {
    "duration": 964,
    "start_time": "2024-09-13T19:02:30.052Z"
   },
   {
    "duration": 4,
    "start_time": "2024-09-13T19:04:58.408Z"
   },
   {
    "duration": 23,
    "start_time": "2024-09-13T19:04:58.500Z"
   },
   {
    "duration": 11,
    "start_time": "2024-09-13T19:04:58.692Z"
   },
   {
    "duration": 6,
    "start_time": "2024-09-13T19:04:58.888Z"
   },
   {
    "duration": 9,
    "start_time": "2024-09-13T19:04:59.068Z"
   },
   {
    "duration": 9,
    "start_time": "2024-09-13T19:04:59.271Z"
   },
   {
    "duration": 16,
    "start_time": "2024-09-13T19:04:59.474Z"
   },
   {
    "duration": 15,
    "start_time": "2024-09-13T19:04:59.687Z"
   },
   {
    "duration": 9,
    "start_time": "2024-09-13T19:04:59.878Z"
   },
   {
    "duration": 5,
    "start_time": "2024-09-13T19:05:00.503Z"
   },
   {
    "duration": 24,
    "start_time": "2024-09-13T19:05:00.510Z"
   },
   {
    "duration": 935,
    "start_time": "2024-09-13T19:05:02.408Z"
   },
   {
    "duration": 6,
    "start_time": "2024-09-13T19:12:15.817Z"
   },
   {
    "duration": 2855,
    "start_time": "2024-09-13T19:56:13.539Z"
   },
   {
    "duration": 44,
    "start_time": "2024-09-13T19:56:16.396Z"
   },
   {
    "duration": 10,
    "start_time": "2024-09-13T19:56:16.442Z"
   },
   {
    "duration": 15,
    "start_time": "2024-09-13T19:56:16.455Z"
   },
   {
    "duration": 12,
    "start_time": "2024-09-13T19:56:16.472Z"
   },
   {
    "duration": 9,
    "start_time": "2024-09-13T19:56:16.486Z"
   },
   {
    "duration": 17,
    "start_time": "2024-09-13T19:56:16.497Z"
   },
   {
    "duration": 17,
    "start_time": "2024-09-13T19:56:16.543Z"
   },
   {
    "duration": 12,
    "start_time": "2024-09-13T19:56:16.562Z"
   },
   {
    "duration": 6,
    "start_time": "2024-09-13T19:56:16.577Z"
   },
   {
    "duration": 25,
    "start_time": "2024-09-13T19:56:16.585Z"
   },
   {
    "duration": 984,
    "start_time": "2024-09-13T19:56:16.612Z"
   },
   {
    "duration": 302,
    "start_time": "2024-09-13T19:56:32.980Z"
   },
   {
    "duration": 4,
    "start_time": "2024-09-13T19:56:56.768Z"
   },
   {
    "duration": 24,
    "start_time": "2024-09-13T19:56:56.946Z"
   },
   {
    "duration": 12,
    "start_time": "2024-09-13T19:56:57.137Z"
   },
   {
    "duration": 7,
    "start_time": "2024-09-13T19:56:57.314Z"
   },
   {
    "duration": 11,
    "start_time": "2024-09-13T19:56:57.579Z"
   },
   {
    "duration": 10,
    "start_time": "2024-09-13T19:56:57.691Z"
   },
   {
    "duration": 21,
    "start_time": "2024-09-13T19:56:57.966Z"
   },
   {
    "duration": 16,
    "start_time": "2024-09-13T19:56:58.075Z"
   },
   {
    "duration": 11,
    "start_time": "2024-09-13T19:56:58.261Z"
   },
   {
    "duration": 6,
    "start_time": "2024-09-13T19:56:58.645Z"
   },
   {
    "duration": 13,
    "start_time": "2024-09-13T19:56:59.050Z"
   },
   {
    "duration": 2,
    "start_time": "2024-09-13T19:58:44.463Z"
   },
   {
    "duration": 28,
    "start_time": "2024-09-13T19:58:44.856Z"
   },
   {
    "duration": 50,
    "start_time": "2024-09-13T20:11:02.617Z"
   },
   {
    "duration": 24,
    "start_time": "2024-09-13T20:11:57.145Z"
   },
   {
    "duration": 45,
    "start_time": "2024-09-13T20:11:58.175Z"
   },
   {
    "duration": 872,
    "start_time": "2024-09-13T20:12:13.221Z"
   },
   {
    "duration": 27,
    "start_time": "2024-09-13T20:12:14.096Z"
   },
   {
    "duration": 19,
    "start_time": "2024-09-13T20:12:14.124Z"
   },
   {
    "duration": 6,
    "start_time": "2024-09-13T20:12:14.144Z"
   },
   {
    "duration": 10,
    "start_time": "2024-09-13T20:12:14.154Z"
   },
   {
    "duration": 8,
    "start_time": "2024-09-13T20:12:14.165Z"
   },
   {
    "duration": 16,
    "start_time": "2024-09-13T20:12:14.174Z"
   },
   {
    "duration": 15,
    "start_time": "2024-09-13T20:12:14.191Z"
   },
   {
    "duration": 41,
    "start_time": "2024-09-13T20:12:14.208Z"
   },
   {
    "duration": 6,
    "start_time": "2024-09-13T20:12:14.251Z"
   },
   {
    "duration": 12,
    "start_time": "2024-09-13T20:12:14.258Z"
   },
   {
    "duration": 21,
    "start_time": "2024-09-13T20:12:14.272Z"
   },
   {
    "duration": 969,
    "start_time": "2024-09-13T20:12:14.295Z"
   },
   {
    "duration": 20,
    "start_time": "2024-09-13T20:12:15.267Z"
   },
   {
    "duration": 178,
    "start_time": "2024-09-13T20:12:15.288Z"
   },
   {
    "duration": 512,
    "start_time": "2024-09-13T20:12:41.732Z"
   },
   {
    "duration": 54,
    "start_time": "2024-09-13T20:23:06.257Z"
   },
   {
    "duration": 917,
    "start_time": "2024-09-13T20:23:19.084Z"
   },
   {
    "duration": 25,
    "start_time": "2024-09-13T20:23:20.003Z"
   },
   {
    "duration": 17,
    "start_time": "2024-09-13T20:23:20.030Z"
   },
   {
    "duration": 6,
    "start_time": "2024-09-13T20:23:20.049Z"
   },
   {
    "duration": 9,
    "start_time": "2024-09-13T20:23:20.057Z"
   },
   {
    "duration": 8,
    "start_time": "2024-09-13T20:23:20.067Z"
   },
   {
    "duration": 17,
    "start_time": "2024-09-13T20:23:20.076Z"
   },
   {
    "duration": 14,
    "start_time": "2024-09-13T20:23:20.094Z"
   },
   {
    "duration": 41,
    "start_time": "2024-09-13T20:23:20.109Z"
   },
   {
    "duration": 4,
    "start_time": "2024-09-13T20:23:20.153Z"
   },
   {
    "duration": 11,
    "start_time": "2024-09-13T20:23:20.159Z"
   },
   {
    "duration": 22,
    "start_time": "2024-09-13T20:23:20.172Z"
   },
   {
    "duration": 996,
    "start_time": "2024-09-13T20:23:20.196Z"
   },
   {
    "duration": 32,
    "start_time": "2024-09-13T20:23:21.195Z"
   },
   {
    "duration": 179,
    "start_time": "2024-09-13T20:23:21.229Z"
   },
   {
    "duration": 47,
    "start_time": "2024-09-13T20:23:46.584Z"
   },
   {
    "duration": 51,
    "start_time": "2024-09-13T20:24:19.113Z"
   },
   {
    "duration": 28,
    "start_time": "2024-09-13T20:25:46.208Z"
   },
   {
    "duration": 1295,
    "start_time": "2024-09-13T20:25:46.543Z"
   },
   {
    "duration": 2,
    "start_time": "2024-09-13T20:34:53.452Z"
   },
   {
    "duration": 2636,
    "start_time": "2024-09-14T18:40:15.657Z"
   },
   {
    "duration": 37,
    "start_time": "2024-09-14T18:40:18.295Z"
   },
   {
    "duration": 10,
    "start_time": "2024-09-14T18:40:18.333Z"
   },
   {
    "duration": 6,
    "start_time": "2024-09-14T18:40:18.345Z"
   },
   {
    "duration": 8,
    "start_time": "2024-09-14T18:40:18.353Z"
   },
   {
    "duration": 9,
    "start_time": "2024-09-14T18:40:18.362Z"
   },
   {
    "duration": 17,
    "start_time": "2024-09-14T18:40:18.372Z"
   },
   {
    "duration": 14,
    "start_time": "2024-09-14T18:40:18.390Z"
   },
   {
    "duration": 42,
    "start_time": "2024-09-14T18:40:18.406Z"
   },
   {
    "duration": 5,
    "start_time": "2024-09-14T18:40:18.451Z"
   },
   {
    "duration": 13,
    "start_time": "2024-09-14T18:40:18.457Z"
   },
   {
    "duration": 22,
    "start_time": "2024-09-14T18:40:18.472Z"
   },
   {
    "duration": 966,
    "start_time": "2024-09-14T18:40:18.496Z"
   },
   {
    "duration": 28,
    "start_time": "2024-09-14T18:40:19.464Z"
   },
   {
    "duration": 1258,
    "start_time": "2024-09-14T18:40:19.494Z"
   },
   {
    "duration": 619,
    "start_time": "2024-09-14T18:46:25.928Z"
   },
   {
    "duration": 43,
    "start_time": "2024-09-14T18:46:39.603Z"
   },
   {
    "duration": 4,
    "start_time": "2024-09-14T18:46:58.913Z"
   },
   {
    "duration": 22,
    "start_time": "2024-09-14T18:46:59.233Z"
   },
   {
    "duration": 10,
    "start_time": "2024-09-14T18:46:59.783Z"
   },
   {
    "duration": 7,
    "start_time": "2024-09-14T18:47:00.168Z"
   },
   {
    "duration": 4,
    "start_time": "2024-09-14T18:47:00.820Z"
   },
   {
    "duration": 9,
    "start_time": "2024-09-14T18:47:06.057Z"
   },
   {
    "duration": 6,
    "start_time": "2024-09-14T18:47:31.498Z"
   },
   {
    "duration": 365,
    "start_time": "2024-09-14T18:50:34.394Z"
   },
   {
    "duration": 4,
    "start_time": "2024-09-14T18:50:47.156Z"
   },
   {
    "duration": 22,
    "start_time": "2024-09-14T18:50:47.364Z"
   },
   {
    "duration": 9,
    "start_time": "2024-09-14T18:50:47.579Z"
   },
   {
    "duration": 6,
    "start_time": "2024-09-14T18:50:47.820Z"
   },
   {
    "duration": 3,
    "start_time": "2024-09-14T18:50:48.036Z"
   },
   {
    "duration": 7,
    "start_time": "2024-09-14T18:50:48.520Z"
   },
   {
    "duration": 9,
    "start_time": "2024-09-14T18:50:48.754Z"
   },
   {
    "duration": 15,
    "start_time": "2024-09-14T18:50:48.979Z"
   },
   {
    "duration": 15,
    "start_time": "2024-09-14T18:50:49.201Z"
   },
   {
    "duration": 9,
    "start_time": "2024-09-14T18:50:49.649Z"
   },
   {
    "duration": 5,
    "start_time": "2024-09-14T18:50:50.904Z"
   },
   {
    "duration": 11,
    "start_time": "2024-09-14T18:50:52.269Z"
   },
   {
    "duration": 24,
    "start_time": "2024-09-14T18:50:53.817Z"
   },
   {
    "duration": 26,
    "start_time": "2024-09-14T18:58:37.995Z"
   },
   {
    "duration": 7,
    "start_time": "2024-09-14T19:01:34.943Z"
   },
   {
    "duration": 2713,
    "start_time": "2024-09-16T00:29:58.682Z"
   },
   {
    "duration": 30,
    "start_time": "2024-09-16T00:30:01.397Z"
   },
   {
    "duration": 12,
    "start_time": "2024-09-16T00:30:01.428Z"
   },
   {
    "duration": 9,
    "start_time": "2024-09-16T00:30:01.443Z"
   },
   {
    "duration": 5,
    "start_time": "2024-09-16T00:30:01.454Z"
   },
   {
    "duration": 8,
    "start_time": "2024-09-16T00:30:01.461Z"
   },
   {
    "duration": 9,
    "start_time": "2024-09-16T00:30:01.487Z"
   },
   {
    "duration": 873,
    "start_time": "2024-09-16T00:30:17.760Z"
   },
   {
    "duration": 26,
    "start_time": "2024-09-16T00:30:18.635Z"
   },
   {
    "duration": 10,
    "start_time": "2024-09-16T00:30:18.662Z"
   },
   {
    "duration": 5,
    "start_time": "2024-09-16T00:30:18.686Z"
   },
   {
    "duration": 3,
    "start_time": "2024-09-16T00:30:18.693Z"
   },
   {
    "duration": 5,
    "start_time": "2024-09-16T00:30:18.698Z"
   },
   {
    "duration": 8,
    "start_time": "2024-09-16T00:30:18.705Z"
   },
   {
    "duration": 15,
    "start_time": "2024-09-16T00:30:18.715Z"
   },
   {
    "duration": 14,
    "start_time": "2024-09-16T00:30:18.733Z"
   },
   {
    "duration": 44,
    "start_time": "2024-09-16T00:30:18.750Z"
   },
   {
    "duration": 6,
    "start_time": "2024-09-16T00:30:18.796Z"
   },
   {
    "duration": 12,
    "start_time": "2024-09-16T00:30:18.805Z"
   },
   {
    "duration": 25,
    "start_time": "2024-09-16T00:30:18.819Z"
   },
   {
    "duration": 809,
    "start_time": "2024-09-16T00:30:18.846Z"
   },
   {
    "duration": 39,
    "start_time": "2024-09-16T00:30:19.657Z"
   },
   {
    "duration": 298,
    "start_time": "2024-09-16T00:30:19.698Z"
   },
   {
    "duration": 0,
    "start_time": "2024-09-16T00:30:19.997Z"
   },
   {
    "duration": 5,
    "start_time": "2024-09-16T00:30:23.949Z"
   },
   {
    "duration": 22,
    "start_time": "2024-09-16T00:30:24.143Z"
   },
   {
    "duration": 10,
    "start_time": "2024-09-16T00:30:24.377Z"
   },
   {
    "duration": 7,
    "start_time": "2024-09-16T00:30:24.605Z"
   },
   {
    "duration": 4,
    "start_time": "2024-09-16T00:30:24.813Z"
   },
   {
    "duration": 7,
    "start_time": "2024-09-16T00:30:25.279Z"
   },
   {
    "duration": 10,
    "start_time": "2024-09-16T00:30:25.505Z"
   },
   {
    "duration": 16,
    "start_time": "2024-09-16T00:30:25.706Z"
   },
   {
    "duration": 15,
    "start_time": "2024-09-16T00:30:25.923Z"
   },
   {
    "duration": 9,
    "start_time": "2024-09-16T00:30:26.340Z"
   },
   {
    "duration": 5,
    "start_time": "2024-09-16T00:30:26.981Z"
   },
   {
    "duration": 14,
    "start_time": "2024-09-16T00:30:27.841Z"
   },
   {
    "duration": 26,
    "start_time": "2024-09-16T00:30:28.310Z"
   },
   {
    "duration": 732,
    "start_time": "2024-09-16T00:30:29.528Z"
   },
   {
    "duration": 29,
    "start_time": "2024-09-16T00:30:30.512Z"
   },
   {
    "duration": 24,
    "start_time": "2024-09-16T00:30:30.806Z"
   },
   {
    "duration": 372,
    "start_time": "2024-09-16T00:32:30.336Z"
   },
   {
    "duration": 0,
    "start_time": "2024-09-16T00:32:30.710Z"
   },
   {
    "duration": 3,
    "start_time": "2024-09-16T00:32:31.277Z"
   },
   {
    "duration": 20,
    "start_time": "2024-09-16T00:32:34.356Z"
   },
   {
    "duration": 41,
    "start_time": "2024-09-16T00:32:46.715Z"
   },
   {
    "duration": 884,
    "start_time": "2024-09-16T00:41:32.458Z"
   },
   {
    "duration": 25,
    "start_time": "2024-09-16T00:41:33.345Z"
   },
   {
    "duration": 17,
    "start_time": "2024-09-16T00:41:33.371Z"
   },
   {
    "duration": 7,
    "start_time": "2024-09-16T00:41:33.390Z"
   },
   {
    "duration": 3,
    "start_time": "2024-09-16T00:41:33.400Z"
   },
   {
    "duration": 6,
    "start_time": "2024-09-16T00:41:33.405Z"
   },
   {
    "duration": 9,
    "start_time": "2024-09-16T00:41:33.412Z"
   },
   {
    "duration": 16,
    "start_time": "2024-09-16T00:41:33.422Z"
   },
   {
    "duration": 58,
    "start_time": "2024-09-16T00:41:33.440Z"
   },
   {
    "duration": 10,
    "start_time": "2024-09-16T00:41:33.500Z"
   },
   {
    "duration": 7,
    "start_time": "2024-09-16T00:41:33.512Z"
   },
   {
    "duration": 12,
    "start_time": "2024-09-16T00:41:33.520Z"
   },
   {
    "duration": 7,
    "start_time": "2024-09-16T00:41:33.533Z"
   },
   {
    "duration": 7,
    "start_time": "2024-09-16T00:41:33.543Z"
   },
   {
    "duration": 3,
    "start_time": "2024-09-16T00:41:33.551Z"
   },
   {
    "duration": 20,
    "start_time": "2024-09-16T00:41:33.588Z"
   },
   {
    "duration": 795,
    "start_time": "2024-09-16T00:41:33.610Z"
   },
   {
    "duration": 30,
    "start_time": "2024-09-16T00:41:34.407Z"
   },
   {
    "duration": 305,
    "start_time": "2024-09-16T00:41:34.439Z"
   },
   {
    "duration": 1,
    "start_time": "2024-09-16T00:41:34.745Z"
   },
   {
    "duration": 4,
    "start_time": "2024-09-16T00:41:46.567Z"
   },
   {
    "duration": 22,
    "start_time": "2024-09-16T00:41:46.802Z"
   },
   {
    "duration": 10,
    "start_time": "2024-09-16T00:41:47.038Z"
   },
   {
    "duration": 8,
    "start_time": "2024-09-16T00:41:47.269Z"
   },
   {
    "duration": 3,
    "start_time": "2024-09-16T00:41:47.495Z"
   },
   {
    "duration": 7,
    "start_time": "2024-09-16T00:41:48.043Z"
   },
   {
    "duration": 10,
    "start_time": "2024-09-16T00:41:48.281Z"
   },
   {
    "duration": 17,
    "start_time": "2024-09-16T00:41:48.607Z"
   },
   {
    "duration": 15,
    "start_time": "2024-09-16T00:41:49.212Z"
   },
   {
    "duration": 10,
    "start_time": "2024-09-16T00:41:50.014Z"
   },
   {
    "duration": 5,
    "start_time": "2024-09-16T00:41:51.038Z"
   },
   {
    "duration": 15,
    "start_time": "2024-09-16T00:41:53.131Z"
   },
   {
    "duration": 9,
    "start_time": "2024-09-16T00:41:54.789Z"
   },
   {
    "duration": 7,
    "start_time": "2024-09-16T00:41:55.420Z"
   },
   {
    "duration": 2,
    "start_time": "2024-09-16T00:41:56.032Z"
   },
   {
    "duration": 18,
    "start_time": "2024-09-16T00:41:56.722Z"
   },
   {
    "duration": 136,
    "start_time": "2024-09-16T00:44:03.752Z"
   },
   {
    "duration": 114,
    "start_time": "2024-09-16T00:45:11.777Z"
   },
   {
    "duration": 723,
    "start_time": "2024-09-16T00:45:18.569Z"
   },
   {
    "duration": 403,
    "start_time": "2024-09-16T01:22:05.898Z"
   },
   {
    "duration": 27,
    "start_time": "2024-09-16T01:28:42.319Z"
   },
   {
    "duration": 19,
    "start_time": "2024-09-16T01:28:52.457Z"
   },
   {
    "duration": 24,
    "start_time": "2024-09-16T01:29:03.603Z"
   },
   {
    "duration": 9,
    "start_time": "2024-09-16T01:31:01.964Z"
   },
   {
    "duration": 9,
    "start_time": "2024-09-16T01:31:02.141Z"
   },
   {
    "duration": 2,
    "start_time": "2024-09-16T01:31:02.353Z"
   },
   {
    "duration": 22,
    "start_time": "2024-09-16T01:31:02.559Z"
   },
   {
    "duration": 1005,
    "start_time": "2024-09-16T01:31:03.449Z"
   },
   {
    "duration": 66,
    "start_time": "2024-09-16T01:31:38.145Z"
   },
   {
    "duration": 63,
    "start_time": "2024-09-16T01:32:50.878Z"
   },
   {
    "duration": 61,
    "start_time": "2024-09-16T01:33:06.942Z"
   },
   {
    "duration": 53,
    "start_time": "2024-09-16T01:37:08.561Z"
   },
   {
    "duration": 22,
    "start_time": "2024-09-16T01:48:43.070Z"
   },
   {
    "duration": 2678,
    "start_time": "2024-09-16T15:08:02.412Z"
   },
   {
    "duration": 39,
    "start_time": "2024-09-16T15:08:05.092Z"
   },
   {
    "duration": 10,
    "start_time": "2024-09-16T15:08:05.133Z"
   },
   {
    "duration": 6,
    "start_time": "2024-09-16T15:08:05.145Z"
   },
   {
    "duration": 3,
    "start_time": "2024-09-16T15:08:05.152Z"
   },
   {
    "duration": 6,
    "start_time": "2024-09-16T15:08:05.157Z"
   },
   {
    "duration": 8,
    "start_time": "2024-09-16T15:08:05.165Z"
   },
   {
    "duration": 49,
    "start_time": "2024-09-16T15:08:05.175Z"
   },
   {
    "duration": 15,
    "start_time": "2024-09-16T15:08:05.226Z"
   },
   {
    "duration": 9,
    "start_time": "2024-09-16T15:08:05.243Z"
   },
   {
    "duration": 6,
    "start_time": "2024-09-16T15:08:05.253Z"
   },
   {
    "duration": 12,
    "start_time": "2024-09-16T15:08:05.260Z"
   },
   {
    "duration": 41,
    "start_time": "2024-09-16T15:08:05.274Z"
   },
   {
    "duration": 8,
    "start_time": "2024-09-16T15:08:05.317Z"
   },
   {
    "duration": 3,
    "start_time": "2024-09-16T15:08:05.326Z"
   },
   {
    "duration": 17,
    "start_time": "2024-09-16T15:08:05.330Z"
   },
   {
    "duration": 810,
    "start_time": "2024-09-16T15:08:05.349Z"
   },
   {
    "duration": 52,
    "start_time": "2024-09-16T15:08:06.161Z"
   },
   {
    "duration": 311,
    "start_time": "2024-09-16T15:08:06.215Z"
   },
   {
    "duration": 4,
    "start_time": "2024-09-16T15:08:11.416Z"
   },
   {
    "duration": 23,
    "start_time": "2024-09-16T15:08:11.657Z"
   },
   {
    "duration": 10,
    "start_time": "2024-09-16T15:08:11.877Z"
   },
   {
    "duration": 7,
    "start_time": "2024-09-16T15:08:12.611Z"
   },
   {
    "duration": 3,
    "start_time": "2024-09-16T15:08:12.992Z"
   },
   {
    "duration": 7,
    "start_time": "2024-09-16T15:08:16.475Z"
   },
   {
    "duration": 9,
    "start_time": "2024-09-16T15:08:17.051Z"
   },
   {
    "duration": 17,
    "start_time": "2024-09-16T15:08:18.518Z"
   },
   {
    "duration": 15,
    "start_time": "2024-09-16T15:08:19.416Z"
   },
   {
    "duration": 10,
    "start_time": "2024-09-16T15:08:21.041Z"
   },
   {
    "duration": 5,
    "start_time": "2024-09-16T15:08:26.738Z"
   },
   {
    "duration": 11,
    "start_time": "2024-09-16T15:08:28.593Z"
   },
   {
    "duration": 8,
    "start_time": "2024-09-16T15:08:29.790Z"
   },
   {
    "duration": 7,
    "start_time": "2024-09-16T15:08:30.170Z"
   },
   {
    "duration": 3,
    "start_time": "2024-09-16T15:08:30.443Z"
   },
   {
    "duration": 17,
    "start_time": "2024-09-16T15:08:30.985Z"
   },
   {
    "duration": 698,
    "start_time": "2024-09-16T15:08:32.377Z"
   },
   {
    "duration": 41,
    "start_time": "2024-09-16T15:08:34.021Z"
   },
   {
    "duration": 29,
    "start_time": "2024-09-16T15:25:53.269Z"
   },
   {
    "duration": 26,
    "start_time": "2024-09-16T15:26:15.213Z"
   },
   {
    "duration": 74,
    "start_time": "2024-09-16T15:26:19.174Z"
   },
   {
    "duration": 33,
    "start_time": "2024-09-16T15:26:23.234Z"
   },
   {
    "duration": 23,
    "start_time": "2024-09-16T15:26:26.002Z"
   },
   {
    "duration": 21,
    "start_time": "2024-09-16T15:26:27.909Z"
   },
   {
    "duration": 22,
    "start_time": "2024-09-16T15:26:39.045Z"
   },
   {
    "duration": 2645,
    "start_time": "2024-09-16T16:41:36.900Z"
   },
   {
    "duration": 40,
    "start_time": "2024-09-16T16:41:39.547Z"
   },
   {
    "duration": 10,
    "start_time": "2024-09-16T16:41:39.588Z"
   },
   {
    "duration": 7,
    "start_time": "2024-09-16T16:41:39.601Z"
   },
   {
    "duration": 3,
    "start_time": "2024-09-16T16:41:39.609Z"
   },
   {
    "duration": 18,
    "start_time": "2024-09-16T16:41:39.614Z"
   },
   {
    "duration": 8,
    "start_time": "2024-09-16T16:41:39.634Z"
   },
   {
    "duration": 16,
    "start_time": "2024-09-16T16:41:39.643Z"
   },
   {
    "duration": 15,
    "start_time": "2024-09-16T16:41:39.660Z"
   },
   {
    "duration": 8,
    "start_time": "2024-09-16T16:41:39.677Z"
   },
   {
    "duration": 5,
    "start_time": "2024-09-16T16:41:39.687Z"
   },
   {
    "duration": 45,
    "start_time": "2024-09-16T16:41:39.694Z"
   },
   {
    "duration": 8,
    "start_time": "2024-09-16T16:41:39.740Z"
   },
   {
    "duration": 6,
    "start_time": "2024-09-16T16:41:39.749Z"
   },
   {
    "duration": 2,
    "start_time": "2024-09-16T16:41:39.757Z"
   },
   {
    "duration": 17,
    "start_time": "2024-09-16T16:41:39.761Z"
   },
   {
    "duration": 814,
    "start_time": "2024-09-16T16:41:39.780Z"
   },
   {
    "duration": 49,
    "start_time": "2024-09-16T16:41:40.596Z"
   },
   {
    "duration": 414,
    "start_time": "2024-09-16T16:41:40.647Z"
   },
   {
    "duration": 0,
    "start_time": "2024-09-16T16:41:41.063Z"
   },
   {
    "duration": 2700,
    "start_time": "2024-09-17T13:44:25.889Z"
   },
   {
    "duration": 38,
    "start_time": "2024-09-17T13:44:28.591Z"
   },
   {
    "duration": 10,
    "start_time": "2024-09-17T13:44:28.634Z"
   },
   {
    "duration": 6,
    "start_time": "2024-09-17T13:44:28.646Z"
   },
   {
    "duration": 4,
    "start_time": "2024-09-17T13:44:28.653Z"
   },
   {
    "duration": 6,
    "start_time": "2024-09-17T13:44:28.670Z"
   },
   {
    "duration": 9,
    "start_time": "2024-09-17T13:44:28.678Z"
   },
   {
    "duration": 19,
    "start_time": "2024-09-17T13:44:28.689Z"
   },
   {
    "duration": 14,
    "start_time": "2024-09-17T13:44:28.710Z"
   },
   {
    "duration": 9,
    "start_time": "2024-09-17T13:44:28.726Z"
   },
   {
    "duration": 6,
    "start_time": "2024-09-17T13:44:28.771Z"
   },
   {
    "duration": 12,
    "start_time": "2024-09-17T13:44:28.778Z"
   },
   {
    "duration": 7,
    "start_time": "2024-09-17T13:44:28.791Z"
   },
   {
    "duration": 7,
    "start_time": "2024-09-17T13:44:28.799Z"
   },
   {
    "duration": 3,
    "start_time": "2024-09-17T13:44:28.807Z"
   },
   {
    "duration": 17,
    "start_time": "2024-09-17T13:44:28.812Z"
   },
   {
    "duration": 800,
    "start_time": "2024-09-17T13:44:28.830Z"
   },
   {
    "duration": 48,
    "start_time": "2024-09-17T13:44:29.632Z"
   },
   {
    "duration": 393,
    "start_time": "2024-09-17T13:44:29.682Z"
   },
   {
    "duration": 0,
    "start_time": "2024-09-17T13:44:30.077Z"
   },
   {
    "duration": 914,
    "start_time": "2024-09-17T14:39:17.296Z"
   },
   {
    "duration": 26,
    "start_time": "2024-09-17T14:39:18.212Z"
   },
   {
    "duration": 10,
    "start_time": "2024-09-17T14:39:18.240Z"
   },
   {
    "duration": 19,
    "start_time": "2024-09-17T14:39:18.252Z"
   },
   {
    "duration": 4,
    "start_time": "2024-09-17T14:39:18.272Z"
   },
   {
    "duration": 7,
    "start_time": "2024-09-17T14:39:18.277Z"
   },
   {
    "duration": 10,
    "start_time": "2024-09-17T14:39:18.285Z"
   },
   {
    "duration": 16,
    "start_time": "2024-09-17T14:39:18.296Z"
   },
   {
    "duration": 16,
    "start_time": "2024-09-17T14:39:18.314Z"
   },
   {
    "duration": 41,
    "start_time": "2024-09-17T14:39:18.332Z"
   },
   {
    "duration": 7,
    "start_time": "2024-09-17T14:39:18.375Z"
   },
   {
    "duration": 12,
    "start_time": "2024-09-17T14:39:18.383Z"
   },
   {
    "duration": 8,
    "start_time": "2024-09-17T14:39:18.397Z"
   },
   {
    "duration": 6,
    "start_time": "2024-09-17T14:39:18.406Z"
   },
   {
    "duration": 2,
    "start_time": "2024-09-17T14:39:18.414Z"
   },
   {
    "duration": 17,
    "start_time": "2024-09-17T14:39:18.418Z"
   },
   {
    "duration": 778,
    "start_time": "2024-09-17T14:39:18.471Z"
   },
   {
    "duration": 881,
    "start_time": "2024-09-17T14:41:04.620Z"
   },
   {
    "duration": 25,
    "start_time": "2024-09-17T14:41:05.503Z"
   },
   {
    "duration": 11,
    "start_time": "2024-09-17T14:41:05.529Z"
   },
   {
    "duration": 6,
    "start_time": "2024-09-17T14:41:05.541Z"
   },
   {
    "duration": 2,
    "start_time": "2024-09-17T14:41:05.550Z"
   },
   {
    "duration": 6,
    "start_time": "2024-09-17T14:41:05.570Z"
   },
   {
    "duration": 9,
    "start_time": "2024-09-17T14:41:05.577Z"
   },
   {
    "duration": 16,
    "start_time": "2024-09-17T14:41:05.587Z"
   },
   {
    "duration": 14,
    "start_time": "2024-09-17T14:41:05.605Z"
   },
   {
    "duration": 10,
    "start_time": "2024-09-17T14:41:05.620Z"
   },
   {
    "duration": 41,
    "start_time": "2024-09-17T14:41:05.632Z"
   },
   {
    "duration": 13,
    "start_time": "2024-09-17T14:41:05.674Z"
   },
   {
    "duration": 7,
    "start_time": "2024-09-17T14:41:05.688Z"
   },
   {
    "duration": 6,
    "start_time": "2024-09-17T14:41:05.697Z"
   },
   {
    "duration": 2,
    "start_time": "2024-09-17T14:41:05.705Z"
   },
   {
    "duration": 18,
    "start_time": "2024-09-17T14:41:05.709Z"
   },
   {
    "duration": 790,
    "start_time": "2024-09-17T14:41:05.729Z"
   },
   {
    "duration": 750,
    "start_time": "2024-09-17T14:45:32.395Z"
   },
   {
    "duration": 118895,
    "start_time": "2024-09-17T14:45:43.007Z"
   },
   {
    "duration": 4,
    "start_time": "2024-09-17T14:52:01.790Z"
   },
   {
    "duration": 11,
    "start_time": "2024-09-17T14:52:23.872Z"
   },
   {
    "duration": 5,
    "start_time": "2024-09-17T14:53:36.569Z"
   },
   {
    "duration": 2,
    "start_time": "2024-09-17T14:55:16.238Z"
   },
   {
    "duration": 23,
    "start_time": "2024-09-17T14:56:30.371Z"
   },
   {
    "duration": 2,
    "start_time": "2024-09-17T14:56:54.036Z"
   },
   {
    "duration": 22,
    "start_time": "2024-09-17T14:57:55.165Z"
   },
   {
    "duration": 155,
    "start_time": "2024-09-17T15:45:57.770Z"
   },
   {
    "duration": 2659,
    "start_time": "2024-09-17T15:46:07.514Z"
   },
   {
    "duration": 31,
    "start_time": "2024-09-17T15:46:10.175Z"
   },
   {
    "duration": 10,
    "start_time": "2024-09-17T15:46:10.207Z"
   },
   {
    "duration": 5,
    "start_time": "2024-09-17T15:46:10.220Z"
   },
   {
    "duration": 3,
    "start_time": "2024-09-17T15:46:10.227Z"
   },
   {
    "duration": 6,
    "start_time": "2024-09-17T15:46:10.232Z"
   },
   {
    "duration": 8,
    "start_time": "2024-09-17T15:46:10.239Z"
   },
   {
    "duration": 15,
    "start_time": "2024-09-17T15:46:10.248Z"
   },
   {
    "duration": 14,
    "start_time": "2024-09-17T15:46:10.306Z"
   },
   {
    "duration": 7,
    "start_time": "2024-09-17T15:46:10.323Z"
   },
   {
    "duration": 6,
    "start_time": "2024-09-17T15:46:10.332Z"
   },
   {
    "duration": 11,
    "start_time": "2024-09-17T15:46:10.339Z"
   },
   {
    "duration": 7,
    "start_time": "2024-09-17T15:46:10.352Z"
   },
   {
    "duration": 5,
    "start_time": "2024-09-17T15:46:10.362Z"
   },
   {
    "duration": 3,
    "start_time": "2024-09-17T15:46:10.404Z"
   },
   {
    "duration": 17,
    "start_time": "2024-09-17T15:46:10.409Z"
   },
   {
    "duration": 803,
    "start_time": "2024-09-17T15:46:10.427Z"
   },
   {
    "duration": 16,
    "start_time": "2024-09-17T15:46:11.232Z"
   },
   {
    "duration": 4,
    "start_time": "2024-09-17T15:50:27.454Z"
   },
   {
    "duration": 22,
    "start_time": "2024-09-17T15:50:27.460Z"
   },
   {
    "duration": 23,
    "start_time": "2024-09-17T15:50:27.484Z"
   },
   {
    "duration": 7,
    "start_time": "2024-09-17T15:50:27.508Z"
   },
   {
    "duration": 3,
    "start_time": "2024-09-17T15:50:27.516Z"
   },
   {
    "duration": 5,
    "start_time": "2024-09-17T15:50:27.521Z"
   },
   {
    "duration": 9,
    "start_time": "2024-09-17T15:50:27.528Z"
   },
   {
    "duration": 16,
    "start_time": "2024-09-17T15:50:27.538Z"
   },
   {
    "duration": 57,
    "start_time": "2024-09-17T15:50:27.556Z"
   },
   {
    "duration": 9,
    "start_time": "2024-09-17T15:50:27.615Z"
   },
   {
    "duration": 4,
    "start_time": "2024-09-17T15:50:27.626Z"
   },
   {
    "duration": 11,
    "start_time": "2024-09-17T15:50:27.632Z"
   },
   {
    "duration": 7,
    "start_time": "2024-09-17T15:50:27.644Z"
   },
   {
    "duration": 6,
    "start_time": "2024-09-17T15:50:27.653Z"
   },
   {
    "duration": 3,
    "start_time": "2024-09-17T15:50:27.660Z"
   },
   {
    "duration": 53,
    "start_time": "2024-09-17T15:50:27.665Z"
   },
   {
    "duration": 777,
    "start_time": "2024-09-17T15:50:27.720Z"
   },
   {
    "duration": 14,
    "start_time": "2024-09-17T15:50:28.498Z"
   },
   {
    "duration": 2714,
    "start_time": "2024-09-17T16:39:56.345Z"
   },
   {
    "duration": 37,
    "start_time": "2024-09-17T16:39:59.061Z"
   },
   {
    "duration": 11,
    "start_time": "2024-09-17T16:39:59.099Z"
   },
   {
    "duration": 6,
    "start_time": "2024-09-17T16:39:59.112Z"
   },
   {
    "duration": 3,
    "start_time": "2024-09-17T16:39:59.131Z"
   },
   {
    "duration": 5,
    "start_time": "2024-09-17T16:39:59.136Z"
   },
   {
    "duration": 8,
    "start_time": "2024-09-17T16:39:59.144Z"
   },
   {
    "duration": 15,
    "start_time": "2024-09-17T16:39:59.153Z"
   },
   {
    "duration": 15,
    "start_time": "2024-09-17T16:39:59.170Z"
   },
   {
    "duration": 8,
    "start_time": "2024-09-17T16:39:59.187Z"
   },
   {
    "duration": 8,
    "start_time": "2024-09-17T16:39:59.230Z"
   },
   {
    "duration": 14,
    "start_time": "2024-09-17T16:39:59.240Z"
   },
   {
    "duration": 8,
    "start_time": "2024-09-17T16:39:59.256Z"
   },
   {
    "duration": 7,
    "start_time": "2024-09-17T16:39:59.268Z"
   },
   {
    "duration": 3,
    "start_time": "2024-09-17T16:39:59.276Z"
   },
   {
    "duration": 17,
    "start_time": "2024-09-17T16:39:59.280Z"
   },
   {
    "duration": 780,
    "start_time": "2024-09-17T16:39:59.330Z"
   },
   {
    "duration": 10,
    "start_time": "2024-09-17T16:40:00.112Z"
   },
   {
    "duration": 876,
    "start_time": "2024-09-17T16:42:43.716Z"
   },
   {
    "duration": 24,
    "start_time": "2024-09-17T16:42:44.595Z"
   },
   {
    "duration": 14,
    "start_time": "2024-09-17T16:42:44.620Z"
   },
   {
    "duration": 6,
    "start_time": "2024-09-17T16:42:44.635Z"
   },
   {
    "duration": 3,
    "start_time": "2024-09-17T16:42:44.644Z"
   },
   {
    "duration": 6,
    "start_time": "2024-09-17T16:42:44.649Z"
   },
   {
    "duration": 8,
    "start_time": "2024-09-17T16:42:44.656Z"
   },
   {
    "duration": 16,
    "start_time": "2024-09-17T16:42:44.666Z"
   },
   {
    "duration": 52,
    "start_time": "2024-09-17T16:42:44.686Z"
   },
   {
    "duration": 10,
    "start_time": "2024-09-17T16:42:44.741Z"
   },
   {
    "duration": 6,
    "start_time": "2024-09-17T16:42:44.753Z"
   },
   {
    "duration": 15,
    "start_time": "2024-09-17T16:42:44.761Z"
   },
   {
    "duration": 9,
    "start_time": "2024-09-17T16:42:44.778Z"
   },
   {
    "duration": 42,
    "start_time": "2024-09-17T16:42:44.790Z"
   },
   {
    "duration": 4,
    "start_time": "2024-09-17T16:42:44.834Z"
   },
   {
    "duration": 25,
    "start_time": "2024-09-17T16:42:44.840Z"
   },
   {
    "duration": 784,
    "start_time": "2024-09-17T16:42:44.867Z"
   },
   {
    "duration": 12,
    "start_time": "2024-09-17T16:42:45.652Z"
   },
   {
    "duration": 972,
    "start_time": "2024-09-17T16:44:28.569Z"
   },
   {
    "duration": 31,
    "start_time": "2024-09-17T16:44:29.543Z"
   },
   {
    "duration": 14,
    "start_time": "2024-09-17T16:44:29.575Z"
   },
   {
    "duration": 14,
    "start_time": "2024-09-17T16:44:29.592Z"
   },
   {
    "duration": 8,
    "start_time": "2024-09-17T16:44:29.609Z"
   },
   {
    "duration": 16,
    "start_time": "2024-09-17T16:44:29.619Z"
   },
   {
    "duration": 11,
    "start_time": "2024-09-17T16:44:29.636Z"
   },
   {
    "duration": 20,
    "start_time": "2024-09-17T16:44:29.649Z"
   },
   {
    "duration": 16,
    "start_time": "2024-09-17T16:44:29.670Z"
   },
   {
    "duration": 11,
    "start_time": "2024-09-17T16:44:29.690Z"
   },
   {
    "duration": 8,
    "start_time": "2024-09-17T16:44:29.732Z"
   },
   {
    "duration": 14,
    "start_time": "2024-09-17T16:44:29.741Z"
   },
   {
    "duration": 9,
    "start_time": "2024-09-17T16:44:29.757Z"
   },
   {
    "duration": 19,
    "start_time": "2024-09-17T16:44:29.767Z"
   },
   {
    "duration": 4,
    "start_time": "2024-09-17T16:44:29.788Z"
   },
   {
    "duration": 40,
    "start_time": "2024-09-17T16:44:29.794Z"
   },
   {
    "duration": 789,
    "start_time": "2024-09-17T16:44:29.836Z"
   },
   {
    "duration": 12,
    "start_time": "2024-09-17T16:44:30.631Z"
   },
   {
    "duration": 5,
    "start_time": "2024-09-17T16:46:31.481Z"
   },
   {
    "duration": 44,
    "start_time": "2024-09-17T16:46:31.488Z"
   },
   {
    "duration": 10,
    "start_time": "2024-09-17T16:46:31.534Z"
   },
   {
    "duration": 7,
    "start_time": "2024-09-17T16:46:31.546Z"
   },
   {
    "duration": 2,
    "start_time": "2024-09-17T16:46:31.555Z"
   },
   {
    "duration": 7,
    "start_time": "2024-09-17T16:46:31.559Z"
   },
   {
    "duration": 12,
    "start_time": "2024-09-17T16:46:31.567Z"
   },
   {
    "duration": 51,
    "start_time": "2024-09-17T16:46:31.581Z"
   },
   {
    "duration": 18,
    "start_time": "2024-09-17T16:46:31.634Z"
   },
   {
    "duration": 10,
    "start_time": "2024-09-17T16:46:31.653Z"
   },
   {
    "duration": 5,
    "start_time": "2024-09-17T16:46:31.665Z"
   },
   {
    "duration": 13,
    "start_time": "2024-09-17T16:46:31.671Z"
   },
   {
    "duration": 8,
    "start_time": "2024-09-17T16:46:31.686Z"
   },
   {
    "duration": 40,
    "start_time": "2024-09-17T16:46:31.696Z"
   },
   {
    "duration": 2,
    "start_time": "2024-09-17T16:46:31.738Z"
   },
   {
    "duration": 25,
    "start_time": "2024-09-17T16:46:31.742Z"
   },
   {
    "duration": 797,
    "start_time": "2024-09-17T16:46:31.768Z"
   },
   {
    "duration": 11,
    "start_time": "2024-09-17T16:46:32.567Z"
   },
   {
    "duration": 119512,
    "start_time": "2024-09-17T16:46:32.582Z"
   },
   {
    "duration": 24,
    "start_time": "2024-09-17T16:48:32.097Z"
   },
   {
    "duration": 30,
    "start_time": "2024-09-17T16:48:32.122Z"
   },
   {
    "duration": 161,
    "start_time": "2024-09-17T19:02:36.062Z"
   },
   {
    "duration": 2708,
    "start_time": "2024-09-17T19:03:07.583Z"
   },
   {
    "duration": 38,
    "start_time": "2024-09-17T19:03:10.293Z"
   },
   {
    "duration": 10,
    "start_time": "2024-09-17T19:03:10.332Z"
   },
   {
    "duration": 5,
    "start_time": "2024-09-17T19:03:10.344Z"
   },
   {
    "duration": 3,
    "start_time": "2024-09-17T19:03:10.352Z"
   },
   {
    "duration": 7,
    "start_time": "2024-09-17T19:03:10.356Z"
   },
   {
    "duration": 9,
    "start_time": "2024-09-17T19:03:10.365Z"
   },
   {
    "duration": 42,
    "start_time": "2024-09-17T19:03:10.375Z"
   },
   {
    "duration": 15,
    "start_time": "2024-09-17T19:03:10.419Z"
   },
   {
    "duration": 8,
    "start_time": "2024-09-17T19:03:10.436Z"
   },
   {
    "duration": 5,
    "start_time": "2024-09-17T19:03:10.446Z"
   },
   {
    "duration": 12,
    "start_time": "2024-09-17T19:03:10.453Z"
   },
   {
    "duration": 8,
    "start_time": "2024-09-17T19:03:10.466Z"
   },
   {
    "duration": 8,
    "start_time": "2024-09-17T19:03:10.511Z"
   },
   {
    "duration": 3,
    "start_time": "2024-09-17T19:03:10.520Z"
   },
   {
    "duration": 18,
    "start_time": "2024-09-17T19:03:10.525Z"
   },
   {
    "duration": 804,
    "start_time": "2024-09-17T19:03:10.545Z"
   },
   {
    "duration": 11,
    "start_time": "2024-09-17T19:03:11.351Z"
   },
   {
    "duration": 119134,
    "start_time": "2024-09-17T19:03:11.364Z"
   },
   {
    "duration": 85,
    "start_time": "2024-09-17T19:05:15.645Z"
   },
   {
    "duration": 101,
    "start_time": "2024-09-17T19:05:15.732Z"
   },
   {
    "duration": 5314,
    "start_time": "2024-09-17T19:05:15.836Z"
   },
   {
    "duration": 885,
    "start_time": "2024-09-18T12:53:22.393Z"
   },
   {
    "duration": 29,
    "start_time": "2024-09-18T12:53:23.280Z"
   },
   {
    "duration": 10,
    "start_time": "2024-09-18T12:53:23.311Z"
   },
   {
    "duration": 6,
    "start_time": "2024-09-18T12:53:23.323Z"
   },
   {
    "duration": 3,
    "start_time": "2024-09-18T12:53:23.332Z"
   },
   {
    "duration": 7,
    "start_time": "2024-09-18T12:53:23.336Z"
   },
   {
    "duration": 9,
    "start_time": "2024-09-18T12:53:23.344Z"
   },
   {
    "duration": 55,
    "start_time": "2024-09-18T12:53:23.355Z"
   },
   {
    "duration": 15,
    "start_time": "2024-09-18T12:53:23.412Z"
   },
   {
    "duration": 9,
    "start_time": "2024-09-18T12:53:23.429Z"
   },
   {
    "duration": 5,
    "start_time": "2024-09-18T12:53:23.439Z"
   },
   {
    "duration": 12,
    "start_time": "2024-09-18T12:53:23.448Z"
   },
   {
    "duration": 8,
    "start_time": "2024-09-18T12:53:23.461Z"
   },
   {
    "duration": 40,
    "start_time": "2024-09-18T12:53:23.473Z"
   },
   {
    "duration": 2,
    "start_time": "2024-09-18T12:53:23.515Z"
   },
   {
    "duration": 17,
    "start_time": "2024-09-18T12:53:23.519Z"
   },
   {
    "duration": 791,
    "start_time": "2024-09-18T12:53:23.538Z"
   },
   {
    "duration": 12,
    "start_time": "2024-09-18T12:53:24.331Z"
   },
   {
    "duration": 3,
    "start_time": "2024-09-18T12:55:30.722Z"
   },
   {
    "duration": 25,
    "start_time": "2024-09-18T12:55:30.727Z"
   },
   {
    "duration": 10,
    "start_time": "2024-09-18T12:55:30.754Z"
   },
   {
    "duration": 7,
    "start_time": "2024-09-18T12:55:30.766Z"
   },
   {
    "duration": 3,
    "start_time": "2024-09-18T12:55:30.775Z"
   },
   {
    "duration": 8,
    "start_time": "2024-09-18T12:55:30.810Z"
   },
   {
    "duration": 9,
    "start_time": "2024-09-18T12:55:30.820Z"
   },
   {
    "duration": 16,
    "start_time": "2024-09-18T12:55:30.831Z"
   },
   {
    "duration": 14,
    "start_time": "2024-09-18T12:55:30.849Z"
   },
   {
    "duration": 9,
    "start_time": "2024-09-18T12:55:30.865Z"
   },
   {
    "duration": 38,
    "start_time": "2024-09-18T12:55:30.875Z"
   },
   {
    "duration": 12,
    "start_time": "2024-09-18T12:55:30.916Z"
   },
   {
    "duration": 8,
    "start_time": "2024-09-18T12:55:30.930Z"
   },
   {
    "duration": 8,
    "start_time": "2024-09-18T12:55:30.939Z"
   },
   {
    "duration": 3,
    "start_time": "2024-09-18T12:55:30.948Z"
   },
   {
    "duration": 17,
    "start_time": "2024-09-18T12:55:30.953Z"
   },
   {
    "duration": 786,
    "start_time": "2024-09-18T12:55:31.009Z"
   },
   {
    "duration": 17,
    "start_time": "2024-09-18T12:55:31.797Z"
   },
   {
    "duration": 120825,
    "start_time": "2024-09-18T12:55:31.816Z"
   },
   {
    "duration": 5382,
    "start_time": "2024-09-18T12:57:32.643Z"
   },
   {
    "duration": 90,
    "start_time": "2024-09-18T12:57:38.028Z"
   },
   {
    "duration": 23,
    "start_time": "2024-09-18T12:57:38.124Z"
   },
   {
    "duration": 2769,
    "start_time": "2024-09-18T13:37:36.322Z"
   },
   {
    "duration": 30,
    "start_time": "2024-09-18T13:37:39.093Z"
   },
   {
    "duration": 12,
    "start_time": "2024-09-18T13:37:39.125Z"
   },
   {
    "duration": 6,
    "start_time": "2024-09-18T13:37:39.140Z"
   },
   {
    "duration": 4,
    "start_time": "2024-09-18T13:37:39.149Z"
   },
   {
    "duration": 8,
    "start_time": "2024-09-18T13:37:39.155Z"
   },
   {
    "duration": 9,
    "start_time": "2024-09-18T13:37:39.165Z"
   },
   {
    "duration": 18,
    "start_time": "2024-09-18T13:37:39.209Z"
   },
   {
    "duration": 15,
    "start_time": "2024-09-18T13:37:39.229Z"
   },
   {
    "duration": 9,
    "start_time": "2024-09-18T13:37:39.246Z"
   },
   {
    "duration": 6,
    "start_time": "2024-09-18T13:37:39.256Z"
   },
   {
    "duration": 45,
    "start_time": "2024-09-18T13:37:39.264Z"
   },
   {
    "duration": 8,
    "start_time": "2024-09-18T13:37:39.311Z"
   },
   {
    "duration": 6,
    "start_time": "2024-09-18T13:37:39.323Z"
   },
   {
    "duration": 3,
    "start_time": "2024-09-18T13:37:39.330Z"
   },
   {
    "duration": 20,
    "start_time": "2024-09-18T13:37:39.335Z"
   },
   {
    "duration": 819,
    "start_time": "2024-09-18T13:37:39.357Z"
   },
   {
    "duration": 11,
    "start_time": "2024-09-18T13:37:40.178Z"
   },
   {
    "duration": 120588,
    "start_time": "2024-09-18T13:37:40.191Z"
   },
   {
    "duration": 5357,
    "start_time": "2024-09-18T13:39:40.781Z"
   },
   {
    "duration": 84,
    "start_time": "2024-09-18T13:39:46.140Z"
   },
   {
    "duration": 95,
    "start_time": "2024-09-18T13:39:46.227Z"
   },
   {
    "duration": 88,
    "start_time": "2024-09-18T13:39:46.325Z"
   },
   {
    "duration": 2746,
    "start_time": "2024-09-18T16:11:02.763Z"
   },
   {
    "duration": 35,
    "start_time": "2024-09-18T16:11:05.511Z"
   },
   {
    "duration": 11,
    "start_time": "2024-09-18T16:11:05.547Z"
   },
   {
    "duration": 6,
    "start_time": "2024-09-18T16:11:05.560Z"
   },
   {
    "duration": 3,
    "start_time": "2024-09-18T16:11:05.568Z"
   },
   {
    "duration": 6,
    "start_time": "2024-09-18T16:11:05.573Z"
   },
   {
    "duration": 33,
    "start_time": "2024-09-18T16:11:05.581Z"
   },
   {
    "duration": 15,
    "start_time": "2024-09-18T16:11:05.616Z"
   },
   {
    "duration": 15,
    "start_time": "2024-09-18T16:11:05.633Z"
   },
   {
    "duration": 8,
    "start_time": "2024-09-18T16:11:05.651Z"
   },
   {
    "duration": 6,
    "start_time": "2024-09-18T16:11:05.660Z"
   },
   {
    "duration": 45,
    "start_time": "2024-09-18T16:11:05.668Z"
   },
   {
    "duration": 9,
    "start_time": "2024-09-18T16:11:05.715Z"
   },
   {
    "duration": 8,
    "start_time": "2024-09-18T16:11:05.726Z"
   },
   {
    "duration": 2,
    "start_time": "2024-09-18T16:11:05.736Z"
   },
   {
    "duration": 17,
    "start_time": "2024-09-18T16:11:05.740Z"
   },
   {
    "duration": 826,
    "start_time": "2024-09-18T16:11:05.759Z"
   },
   {
    "duration": 12,
    "start_time": "2024-09-18T16:11:06.587Z"
   },
   {
    "duration": 1173,
    "start_time": "2024-09-18T16:11:06.601Z"
   },
   {
    "duration": 54,
    "start_time": "2024-09-18T16:11:07.777Z"
   },
   {
    "duration": 39,
    "start_time": "2024-09-18T16:11:07.913Z"
   },
   {
    "duration": 4,
    "start_time": "2024-09-18T16:12:09.635Z"
   },
   {
    "duration": 23,
    "start_time": "2024-09-18T16:12:09.641Z"
   },
   {
    "duration": 10,
    "start_time": "2024-09-18T16:12:09.665Z"
   },
   {
    "duration": 35,
    "start_time": "2024-09-18T16:12:09.677Z"
   },
   {
    "duration": 3,
    "start_time": "2024-09-18T16:12:09.714Z"
   },
   {
    "duration": 6,
    "start_time": "2024-09-18T16:12:09.719Z"
   },
   {
    "duration": 9,
    "start_time": "2024-09-18T16:12:09.726Z"
   },
   {
    "duration": 19,
    "start_time": "2024-09-18T16:12:09.736Z"
   },
   {
    "duration": 22,
    "start_time": "2024-09-18T16:12:09.757Z"
   },
   {
    "duration": 10,
    "start_time": "2024-09-18T16:12:09.809Z"
   },
   {
    "duration": 5,
    "start_time": "2024-09-18T16:12:09.821Z"
   },
   {
    "duration": 12,
    "start_time": "2024-09-18T16:12:09.828Z"
   },
   {
    "duration": 8,
    "start_time": "2024-09-18T16:12:09.851Z"
   },
   {
    "duration": 7,
    "start_time": "2024-09-18T16:12:09.860Z"
   },
   {
    "duration": 3,
    "start_time": "2024-09-18T16:12:09.869Z"
   },
   {
    "duration": 48,
    "start_time": "2024-09-18T16:12:09.874Z"
   },
   {
    "duration": 791,
    "start_time": "2024-09-18T16:12:09.924Z"
   },
   {
    "duration": 12,
    "start_time": "2024-09-18T16:12:10.717Z"
   },
   {
    "duration": 1144,
    "start_time": "2024-09-18T16:12:10.731Z"
   },
   {
    "duration": 50,
    "start_time": "2024-09-18T16:12:11.877Z"
   },
   {
    "duration": 112,
    "start_time": "2024-09-18T16:12:11.929Z"
   },
   {
    "duration": 58536,
    "start_time": "2024-09-18T16:12:12.042Z"
   },
   {
    "duration": 2932,
    "start_time": "2024-09-18T16:13:10.581Z"
   },
   {
    "duration": 121,
    "start_time": "2024-09-18T16:13:13.516Z"
   },
   {
    "duration": 46,
    "start_time": "2024-09-18T16:13:13.639Z"
   }
  ],
  "kernelspec": {
   "display_name": "Python 3 (ipykernel)",
   "language": "python",
   "name": "python3"
  },
  "language_info": {
   "codemirror_mode": {
    "name": "ipython",
    "version": 3
   },
   "file_extension": ".py",
   "mimetype": "text/x-python",
   "name": "python",
   "nbconvert_exporter": "python",
   "pygments_lexer": "ipython3",
   "version": "3.12.4"
  },
  "toc": {
   "base_numbering": 1,
   "nav_menu": {},
   "number_sections": true,
   "sideBar": true,
   "skip_h1_title": true,
   "title_cell": "Table of Contents",
   "title_sidebar": "Contents",
   "toc_cell": false,
   "toc_position": {},
   "toc_section_display": true,
   "toc_window_display": false
  }
 },
 "nbformat": 4,
 "nbformat_minor": 4
}
